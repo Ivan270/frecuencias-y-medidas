{
 "cells": [
  {
   "cell_type": "markdown",
   "id": "55d617cc",
   "metadata": {},
   "source": [
    "# Conociendo los datos\n",
    "---\n",
    "## Dataset\n",
    "---\n",
    "### Muestra de domicilios Colombia - 2018\n",
    "\n",
    "Las investigaciones por muestras de domicilios realizadas anualmente, buscan encontrar característcias generales de la población, de educación, trabajo, rendimiento y otras, de acuerdo con las necesidades de información del país, tales como las características de migración, fertilidad, casamientos, salud, nutrición, entre otros temas. Estas muestras al pasar de los años consistuyen una herramienta importante para la formulación, validación y evaluación de políticas dirigidas al desarrollo socioeconómico y la mejora de las condiciones de vida en Colombia.\n",
    "\n",
    "### Datos\n",
    "Fueron creados de manera didáctica para el curso.\n",
    "\n",
    "### Variables utilizadas\n",
    "\n",
    "> ### Ingreso\n",
    "> ***\n",
    "\n",
    "Ingresos mensuales (en miles de pesos) del trabajo principal para personas de 10 años o más.\n",
    "\n",
    "> ### Edad\n",
    "> ***\n",
    "\n",
    "Edad del entrevistado en la fecha de referencia en años.\n",
    "\n",
    "> ### Altura\n",
    "> ***\n",
    "\n",
    "Altura del entrevistado em metros.\n",
    "\n",
    "> ### Ciudad\n",
    "> ***\n",
    "\n",
    "Código de referência a 27 ciudades analizadas.\n",
    "\n",
    "\n",
    "> ### Sexo\n",
    "> ***\n",
    "\n",
    "|Código|Descripción|\n",
    "|---|---|\n",
    "|0|Masculino|\n",
    "|1|Femenino|\n",
    "\n",
    "> ### Años de Estudio\n",
    "> ***\n",
    "\n",
    "|Código|Descripción|\n",
    "|---|---|\n",
    "|1|Sin estudios y menos de 1 año|\n",
    "|2|1 año|\n",
    "|3|2 años|\n",
    "|4|3 años|\n",
    "|5|4 años|\n",
    "|6|5 años|\n",
    "|7|6 años|\n",
    "|8|7 años|\n",
    "|9|8 años|\n",
    "|10|9 años|\n",
    "|11|10 años|\n",
    "|12|11 años|\n",
    "|13|12 años|\n",
    "|14|13 años|\n",
    "|15|14 años|\n",
    "|16|15 años o más|\n",
    "|17|No se sabe|\n",
    "||No aplica|\n",
    "\n",
    "> ### Color\n",
    "> ***\n",
    "\n",
    "|Código|Descripción|\n",
    "|---|---|\n",
    "|0|Indio|\n",
    "|2|Blanco|\n",
    "|4|Negro|\n",
    "|6|Amarillo|\n",
    "|8|Moreno|\n",
    "|9|Sin declarar|\n",
    "\n",
    "> ### Tratamiento a los datos\n",
    "Cuando se está analizando un set de datos, es importante documentar qué es lo que se ha hecho, como lo hecho a continuación:\n",
    "***\n",
    "\n",
    "> Algunos de los tratamientos de datos más frecuentes son:\n",
    "> 1. Eliminar las observaciones (líneas) con entradas de datos inválidos;\n",
    "> 2. Eliminar observaciones donde hay datos perdidos (missing data);\n",
    "> 3. Filtros própios de la investigación, por ejemplo: considerar solo las encuestas realizadas a la cabeza de familia (responsable por el domicilio)."
   ]
  },
  {
   "cell_type": "markdown",
   "id": "2d235109",
   "metadata": {},
   "source": [
    "## Importación y lectura del Dataset"
   ]
  },
  {
   "cell_type": "code",
   "execution_count": 1,
   "id": "9d18945a",
   "metadata": {},
   "outputs": [],
   "source": [
    "import pandas as pd"
   ]
  },
  {
   "cell_type": "code",
   "execution_count": 2,
   "id": "4320e773",
   "metadata": {},
   "outputs": [],
   "source": [
    "datos = pd.read_csv('data/datos.csv')"
   ]
  },
  {
   "cell_type": "code",
   "execution_count": 3,
   "id": "09df302e",
   "metadata": {},
   "outputs": [
    {
     "data": {
      "text/html": [
       "<div>\n",
       "<style scoped>\n",
       "    .dataframe tbody tr th:only-of-type {\n",
       "        vertical-align: middle;\n",
       "    }\n",
       "\n",
       "    .dataframe tbody tr th {\n",
       "        vertical-align: top;\n",
       "    }\n",
       "\n",
       "    .dataframe thead th {\n",
       "        text-align: right;\n",
       "    }\n",
       "</style>\n",
       "<table border=\"1\" class=\"dataframe\">\n",
       "  <thead>\n",
       "    <tr style=\"text-align: right;\">\n",
       "      <th></th>\n",
       "      <th>Ciudad</th>\n",
       "      <th>Sexo</th>\n",
       "      <th>Edad</th>\n",
       "      <th>Color</th>\n",
       "      <th>Años de Estudio</th>\n",
       "      <th>Ingreso</th>\n",
       "      <th>Altura</th>\n",
       "    </tr>\n",
       "  </thead>\n",
       "  <tbody>\n",
       "    <tr>\n",
       "      <th>62981</th>\n",
       "      <td>43</td>\n",
       "      <td>0</td>\n",
       "      <td>43</td>\n",
       "      <td>2</td>\n",
       "      <td>8</td>\n",
       "      <td>2000</td>\n",
       "      <td>1.827602</td>\n",
       "    </tr>\n",
       "  </tbody>\n",
       "</table>\n",
       "</div>"
      ],
      "text/plain": [
       "       Ciudad  Sexo  Edad  Color  Años de Estudio  Ingreso    Altura\n",
       "62981      43     0    43      2                8     2000  1.827602"
      ]
     },
     "execution_count": 3,
     "metadata": {},
     "output_type": "execute_result"
    }
   ],
   "source": [
    "datos.sample()"
   ]
  },
  {
   "cell_type": "markdown",
   "id": "4884d400",
   "metadata": {},
   "source": [
    "# Tipos de dato"
   ]
  },
  {
   "cell_type": "markdown",
   "id": "f38e5df9",
   "metadata": {},
   "source": [
    "## Cualitativos"
   ]
  },
  {
   "cell_type": "markdown",
   "id": "9a401084",
   "metadata": {},
   "source": [
    "### Ordinales"
   ]
  },
  {
   "cell_type": "markdown",
   "id": "f5da730d",
   "metadata": {},
   "source": [
    "Pueden ser jerarquizadas y ordenadas"
   ]
  },
  {
   "cell_type": "code",
   "execution_count": 4,
   "id": "f317b26e",
   "metadata": {},
   "outputs": [
    {
     "data": {
      "text/plain": [
       "[np.int64(1),\n",
       " np.int64(2),\n",
       " np.int64(3),\n",
       " np.int64(4),\n",
       " np.int64(5),\n",
       " np.int64(6),\n",
       " np.int64(7),\n",
       " np.int64(8),\n",
       " np.int64(9),\n",
       " np.int64(10),\n",
       " np.int64(11),\n",
       " np.int64(12),\n",
       " np.int64(13),\n",
       " np.int64(14),\n",
       " np.int64(15),\n",
       " np.int64(16),\n",
       " np.int64(17)]"
      ]
     },
     "execution_count": 4,
     "metadata": {},
     "output_type": "execute_result"
    }
   ],
   "source": [
    "# La variable del dataset `Años de estudio` podría entrar en esta categoría\n",
    "sorted(datos['Años de Estudio'].unique())"
   ]
  },
  {
   "cell_type": "markdown",
   "id": "0730fa2a",
   "metadata": {},
   "source": [
    "### Nominales\n",
    "\n",
    "No pueden ser ordenadas ni jerarquizadas.\n",
    "Ejemplos del Dataset:\n",
    "- ciudad\n",
    "- sexo\n",
    "- color"
   ]
  },
  {
   "cell_type": "code",
   "execution_count": 5,
   "id": "aea0cbe1",
   "metadata": {},
   "outputs": [
    {
     "data": {
      "text/plain": [
       "[np.int64(0), np.int64(1)]"
      ]
     },
     "execution_count": 5,
     "metadata": {},
     "output_type": "execute_result"
    }
   ],
   "source": [
    "sorted(datos['Sexo'].unique())"
   ]
  },
  {
   "cell_type": "code",
   "execution_count": 6,
   "id": "531c0a29",
   "metadata": {},
   "outputs": [
    {
     "data": {
      "text/plain": [
       "[np.int64(0), np.int64(2), np.int64(4), np.int64(6), np.int64(8)]"
      ]
     },
     "execution_count": 6,
     "metadata": {},
     "output_type": "execute_result"
    }
   ],
   "source": [
    "sorted(datos[\"Color\"].unique())"
   ]
  },
  {
   "cell_type": "code",
   "execution_count": 7,
   "id": "bca7bcef",
   "metadata": {},
   "outputs": [
    {
     "data": {
      "text/plain": [
       "[np.int64(11),\n",
       " np.int64(12),\n",
       " np.int64(13),\n",
       " np.int64(14),\n",
       " np.int64(15),\n",
       " np.int64(16),\n",
       " np.int64(17),\n",
       " np.int64(21),\n",
       " np.int64(22),\n",
       " np.int64(23),\n",
       " np.int64(24),\n",
       " np.int64(25),\n",
       " np.int64(26),\n",
       " np.int64(27),\n",
       " np.int64(28),\n",
       " np.int64(29),\n",
       " np.int64(31),\n",
       " np.int64(32),\n",
       " np.int64(33),\n",
       " np.int64(35),\n",
       " np.int64(41),\n",
       " np.int64(42),\n",
       " np.int64(43),\n",
       " np.int64(50),\n",
       " np.int64(51),\n",
       " np.int64(52),\n",
       " np.int64(53)]"
      ]
     },
     "execution_count": 7,
     "metadata": {},
     "output_type": "execute_result"
    }
   ],
   "source": [
    "sorted(datos[\"Ciudad\"].unique())"
   ]
  },
  {
   "cell_type": "markdown",
   "id": "71bb241c",
   "metadata": {},
   "source": [
    "## Cuantitativas"
   ]
  },
  {
   "cell_type": "markdown",
   "id": "76e39419",
   "metadata": {},
   "source": [
    "### Discretas\n",
    "\n",
    "Tiene un valor finito. Por ejemplo: la edad tiene un final (el momento de la muerte)\n",
    "- Representación de años completos (números enteros)"
   ]
  },
  {
   "cell_type": "code",
   "execution_count": 8,
   "id": "8398a979",
   "metadata": {},
   "outputs": [
    {
     "data": {
      "text/plain": [
       "99"
      ]
     },
     "execution_count": 8,
     "metadata": {},
     "output_type": "execute_result"
    }
   ],
   "source": [
    "datos.Edad.max()"
   ]
  },
  {
   "cell_type": "code",
   "execution_count": 9,
   "id": "78de3b04",
   "metadata": {},
   "outputs": [
    {
     "data": {
      "text/plain": [
       "13"
      ]
     },
     "execution_count": 9,
     "metadata": {},
     "output_type": "execute_result"
    }
   ],
   "source": [
    "datos.Edad.min()"
   ]
  },
  {
   "cell_type": "markdown",
   "id": "0461603f",
   "metadata": {},
   "source": [
    "### Continuas\n",
    "Por ejemplo la `altura`"
   ]
  },
  {
   "cell_type": "code",
   "execution_count": 10,
   "id": "ca437ab3",
   "metadata": {},
   "outputs": [
    {
     "data": {
      "text/plain": [
       "1.339244614"
      ]
     },
     "execution_count": 10,
     "metadata": {},
     "output_type": "execute_result"
    }
   ],
   "source": [
    "datos.Altura.min()"
   ]
  },
  {
   "cell_type": "code",
   "execution_count": 11,
   "id": "ea4e80dd",
   "metadata": {},
   "outputs": [
    {
     "data": {
      "text/plain": [
       "2.028496765"
      ]
     },
     "execution_count": 11,
     "metadata": {},
     "output_type": "execute_result"
    }
   ],
   "source": [
    "datos.Altura.max()"
   ]
  }
 ],
 "metadata": {
  "kernelspec": {
   "display_name": "condaenv",
   "language": "python",
   "name": "python3"
  },
  "language_info": {
   "codemirror_mode": {
    "name": "ipython",
    "version": 3
   },
   "file_extension": ".py",
   "mimetype": "text/x-python",
   "name": "python",
   "nbconvert_exporter": "python",
   "pygments_lexer": "ipython3",
   "version": "3.13.2"
  }
 },
 "nbformat": 4,
 "nbformat_minor": 5
}
