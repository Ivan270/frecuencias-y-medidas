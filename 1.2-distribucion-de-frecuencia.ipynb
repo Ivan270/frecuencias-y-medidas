{
 "cells": [
  {
   "cell_type": "markdown",
   "id": "662b8776",
   "metadata": {},
   "source": [
    "# Datos anteriores"
   ]
  },
  {
   "cell_type": "code",
   "execution_count": 202,
   "id": "62d58f72",
   "metadata": {},
   "outputs": [
    {
     "data": {
      "text/html": [
       "<div>\n",
       "<style scoped>\n",
       "    .dataframe tbody tr th:only-of-type {\n",
       "        vertical-align: middle;\n",
       "    }\n",
       "\n",
       "    .dataframe tbody tr th {\n",
       "        vertical-align: top;\n",
       "    }\n",
       "\n",
       "    .dataframe thead th {\n",
       "        text-align: right;\n",
       "    }\n",
       "</style>\n",
       "<table border=\"1\" class=\"dataframe\">\n",
       "  <thead>\n",
       "    <tr style=\"text-align: right;\">\n",
       "      <th></th>\n",
       "      <th>Ciudad</th>\n",
       "      <th>Sexo</th>\n",
       "      <th>Edad</th>\n",
       "      <th>Color</th>\n",
       "      <th>Años de Estudio</th>\n",
       "      <th>Ingreso</th>\n",
       "      <th>Altura</th>\n",
       "    </tr>\n",
       "  </thead>\n",
       "  <tbody>\n",
       "    <tr>\n",
       "      <th>27733</th>\n",
       "      <td>29</td>\n",
       "      <td>0</td>\n",
       "      <td>39</td>\n",
       "      <td>8</td>\n",
       "      <td>13</td>\n",
       "      <td>1600</td>\n",
       "      <td>1.646663</td>\n",
       "    </tr>\n",
       "    <tr>\n",
       "      <th>46962</th>\n",
       "      <td>35</td>\n",
       "      <td>1</td>\n",
       "      <td>50</td>\n",
       "      <td>8</td>\n",
       "      <td>6</td>\n",
       "      <td>950</td>\n",
       "      <td>1.611322</td>\n",
       "    </tr>\n",
       "    <tr>\n",
       "      <th>74827</th>\n",
       "      <td>53</td>\n",
       "      <td>0</td>\n",
       "      <td>26</td>\n",
       "      <td>8</td>\n",
       "      <td>14</td>\n",
       "      <td>640</td>\n",
       "      <td>1.728252</td>\n",
       "    </tr>\n",
       "    <tr>\n",
       "      <th>66364</th>\n",
       "      <td>43</td>\n",
       "      <td>1</td>\n",
       "      <td>51</td>\n",
       "      <td>2</td>\n",
       "      <td>4</td>\n",
       "      <td>500</td>\n",
       "      <td>1.691507</td>\n",
       "    </tr>\n",
       "    <tr>\n",
       "      <th>71207</th>\n",
       "      <td>51</td>\n",
       "      <td>0</td>\n",
       "      <td>68</td>\n",
       "      <td>2</td>\n",
       "      <td>11</td>\n",
       "      <td>1000</td>\n",
       "      <td>1.739432</td>\n",
       "    </tr>\n",
       "  </tbody>\n",
       "</table>\n",
       "</div>"
      ],
      "text/plain": [
       "       Ciudad  Sexo  Edad  Color  Años de Estudio  Ingreso    Altura\n",
       "27733      29     0    39      8               13     1600  1.646663\n",
       "46962      35     1    50      8                6      950  1.611322\n",
       "74827      53     0    26      8               14      640  1.728252\n",
       "66364      43     1    51      2                4      500  1.691507\n",
       "71207      51     0    68      2               11     1000  1.739432"
      ]
     },
     "execution_count": 202,
     "metadata": {},
     "output_type": "execute_result"
    }
   ],
   "source": [
    "import pandas as pd\n",
    "\n",
    "datos = pd.read_csv(\"data/datos.csv\")\n",
    "datos.sample(5)"
   ]
  },
  {
   "cell_type": "markdown",
   "id": "4f57328f",
   "metadata": {},
   "source": [
    "# Distribución de frecuencias para variables cualitativas"
   ]
  },
  {
   "cell_type": "markdown",
   "id": "7a642d4f",
   "metadata": {},
   "source": [
    "## ¿Por qué usar distribución de frecuencias?\n",
    "Para entender el comportamiento de la base de datos. \n",
    "Por ejemplo: Para saber como se comportan las personas del género femenino, cuál es el tipo de ingreso, y análisis por el estilo"
   ]
  },
  {
   "cell_type": "code",
   "execution_count": 203,
   "id": "aa32f551",
   "metadata": {},
   "outputs": [
    {
     "data": {
      "text/plain": [
       "Index(['Ciudad', 'Sexo', 'Edad', 'Color', 'Años de Estudio', 'Ingreso',\n",
       "       'Altura'],\n",
       "      dtype='object')"
      ]
     },
     "execution_count": 203,
     "metadata": {},
     "output_type": "execute_result"
    }
   ],
   "source": [
    "# Identificar variables cualitativas: Sexo, Ciudad, Color\n",
    "datos.columns"
   ]
  },
  {
   "cell_type": "markdown",
   "id": "af9aef31",
   "metadata": {},
   "source": [
    "## Identificando frecuencias:"
   ]
  },
  {
   "cell_type": "markdown",
   "id": "f4a93e84",
   "metadata": {},
   "source": [
    "### Método 1: pandas.Series.value_counts()"
   ]
  },
  {
   "cell_type": "markdown",
   "id": "e3ea89e9",
   "metadata": {},
   "source": [
    "#### Cuántos hombres y cuántas mujeres hay"
   ]
  },
  {
   "cell_type": "code",
   "execution_count": 204,
   "id": "f9d03c7b",
   "metadata": {},
   "outputs": [
    {
     "data": {
      "text/plain": [
       "Sexo\n",
       "0    53250\n",
       "1    23590\n",
       "Name: count, dtype: int64"
      ]
     },
     "execution_count": 204,
     "metadata": {},
     "output_type": "execute_result"
    }
   ],
   "source": [
    "datos.Sexo.value_counts()"
   ]
  },
  {
   "cell_type": "markdown",
   "id": "54aedc2d",
   "metadata": {},
   "source": [
    "#### ¿Y en porcentaje?"
   ]
  },
  {
   "cell_type": "markdown",
   "id": "d688a44c",
   "metadata": {},
   "source": [
    "#### Cambiando el nombre del índice"
   ]
  },
  {
   "cell_type": "code",
   "execution_count": 205,
   "id": "72c99b50",
   "metadata": {},
   "outputs": [],
   "source": [
    "Sexo = {\n",
    "  0: 'Masculino',\n",
    "  1: 'Femenino'\n",
    "}"
   ]
  },
  {
   "cell_type": "code",
   "execution_count": 206,
   "id": "9333e966",
   "metadata": {},
   "outputs": [],
   "source": [
    "sexos = (datos.Sexo.value_counts(normalize=True) * 100)"
   ]
  },
  {
   "cell_type": "code",
   "execution_count": 207,
   "id": "cdfab913",
   "metadata": {},
   "outputs": [
    {
     "data": {
      "text/plain": [
       "Sexo\n",
       "Masculino    69.299844\n",
       "Femenino     30.700156\n",
       "Name: proportion, dtype: float64"
      ]
     },
     "execution_count": 207,
     "metadata": {},
     "output_type": "execute_result"
    }
   ],
   "source": [
    "sexos_renamed = sexos.rename(index=Sexo)\n",
    "sexos_renamed"
   ]
  },
  {
   "cell_type": "markdown",
   "id": "4efb4d76",
   "metadata": {},
   "source": [
    "#### Porcentaje obtenido"
   ]
  },
  {
   "cell_type": "code",
   "execution_count": 208,
   "id": "24c19aff",
   "metadata": {},
   "outputs": [
    {
     "data": {
      "text/plain": [
       "Sexo\n",
       "0    69.299844\n",
       "1    30.700156\n",
       "Name: proportion, dtype: float64"
      ]
     },
     "execution_count": 208,
     "metadata": {},
     "output_type": "execute_result"
    }
   ],
   "source": [
    "datos.Sexo.value_counts(normalize=True) * 100"
   ]
  },
  {
   "cell_type": "code",
   "execution_count": 209,
   "id": "89429386",
   "metadata": {},
   "outputs": [
    {
     "data": {
      "text/plain": [
       "Sexo\n",
       "0    69.3\n",
       "1    30.7\n",
       "Name: proportion, dtype: float64"
      ]
     },
     "execution_count": 209,
     "metadata": {},
     "output_type": "execute_result"
    }
   ],
   "source": [
    "datos.Sexo.value_counts(normalize=True).round(4) * 100"
   ]
  },
  {
   "cell_type": "code",
   "execution_count": 210,
   "id": "d5878af6",
   "metadata": {},
   "outputs": [
    {
     "data": {
      "text/plain": [
       "Sexo\n",
       "0    53250\n",
       "1    23590\n",
       "Name: count, dtype: int64"
      ]
     },
     "execution_count": 210,
     "metadata": {},
     "output_type": "execute_result"
    }
   ],
   "source": [
    "frecuencia_sexo = datos.Sexo.value_counts()\n",
    "frecuencia_sexo"
   ]
  },
  {
   "cell_type": "code",
   "execution_count": 211,
   "id": "5c2774f4",
   "metadata": {},
   "outputs": [],
   "source": [
    "porcentaje_sexo = datos.Sexo.value_counts(normalize=True).round(4) * 100"
   ]
  },
  {
   "cell_type": "markdown",
   "id": "7282bd84",
   "metadata": {},
   "source": [
    "#### Crear nuevo dataframe"
   ]
  },
  {
   "cell_type": "code",
   "execution_count": 212,
   "id": "40d4e767",
   "metadata": {},
   "outputs": [],
   "source": [
    "dist_frec_cualitativa = pd.DataFrame({'Frecuencia': frecuencia_sexo, 'Porcentaje': porcentaje_sexo})"
   ]
  },
  {
   "cell_type": "code",
   "execution_count": 213,
   "id": "9fbf4481",
   "metadata": {},
   "outputs": [],
   "source": [
    "dist_frec_cualitativa.rename(index=Sexo, inplace=True)"
   ]
  },
  {
   "cell_type": "code",
   "execution_count": 214,
   "id": "1dc57fbe",
   "metadata": {},
   "outputs": [
    {
     "data": {
      "text/html": [
       "<div>\n",
       "<style scoped>\n",
       "    .dataframe tbody tr th:only-of-type {\n",
       "        vertical-align: middle;\n",
       "    }\n",
       "\n",
       "    .dataframe tbody tr th {\n",
       "        vertical-align: top;\n",
       "    }\n",
       "\n",
       "    .dataframe thead th {\n",
       "        text-align: right;\n",
       "    }\n",
       "</style>\n",
       "<table border=\"1\" class=\"dataframe\">\n",
       "  <thead>\n",
       "    <tr style=\"text-align: right;\">\n",
       "      <th></th>\n",
       "      <th>Frecuencia</th>\n",
       "      <th>Porcentaje</th>\n",
       "    </tr>\n",
       "    <tr>\n",
       "      <th>Sexo</th>\n",
       "      <th></th>\n",
       "      <th></th>\n",
       "    </tr>\n",
       "  </thead>\n",
       "  <tbody>\n",
       "    <tr>\n",
       "      <th>Masculino</th>\n",
       "      <td>53250</td>\n",
       "      <td>69.3</td>\n",
       "    </tr>\n",
       "    <tr>\n",
       "      <th>Femenino</th>\n",
       "      <td>23590</td>\n",
       "      <td>30.7</td>\n",
       "    </tr>\n",
       "  </tbody>\n",
       "</table>\n",
       "</div>"
      ],
      "text/plain": [
       "           Frecuencia  Porcentaje\n",
       "Sexo                             \n",
       "Masculino       53250        69.3\n",
       "Femenino        23590        30.7"
      ]
     },
     "execution_count": 214,
     "metadata": {},
     "output_type": "execute_result"
    }
   ],
   "source": [
    "dist_frec_cualitativa"
   ]
  },
  {
   "cell_type": "markdown",
   "id": "6740ff3e",
   "metadata": {},
   "source": [
    "### Método 2: pandas.crosstab()"
   ]
  },
  {
   "cell_type": "markdown",
   "id": "73bb992c",
   "metadata": {},
   "source": [
    "Se podrá ver dos variables en simultáneo: en este caso color y sexo"
   ]
  },
  {
   "cell_type": "code",
   "execution_count": 215,
   "id": "5bde7ecd",
   "metadata": {},
   "outputs": [],
   "source": [
    "sexo = {\n",
    "  0: 'Masculino',\n",
    "  1:'Femenino'\n",
    "}\n",
    "color = {\n",
    "  0: 'Indígena',\n",
    "  2: 'Blanco',\n",
    "  4: 'Negro',\n",
    "  6: 'Amarillo',\n",
    "  8: 'Pardo',\n",
    "  9: 'Sin declarar'\n",
    "}"
   ]
  },
  {
   "cell_type": "code",
   "execution_count": 216,
   "id": "18515d35",
   "metadata": {},
   "outputs": [],
   "source": [
    "frecuencia = pd.crosstab(datos.Sexo, datos.Color)"
   ]
  },
  {
   "cell_type": "code",
   "execution_count": 217,
   "id": "e2783f10",
   "metadata": {},
   "outputs": [
    {
     "data": {
      "text/html": [
       "<div>\n",
       "<style scoped>\n",
       "    .dataframe tbody tr th:only-of-type {\n",
       "        vertical-align: middle;\n",
       "    }\n",
       "\n",
       "    .dataframe tbody tr th {\n",
       "        vertical-align: top;\n",
       "    }\n",
       "\n",
       "    .dataframe thead th {\n",
       "        text-align: right;\n",
       "    }\n",
       "</style>\n",
       "<table border=\"1\" class=\"dataframe\">\n",
       "  <thead>\n",
       "    <tr style=\"text-align: right;\">\n",
       "      <th>Color</th>\n",
       "      <th>Indígena</th>\n",
       "      <th>Blanco</th>\n",
       "      <th>Negro</th>\n",
       "      <th>Amarillo</th>\n",
       "      <th>Pardo</th>\n",
       "    </tr>\n",
       "    <tr>\n",
       "      <th>Sexo</th>\n",
       "      <th></th>\n",
       "      <th></th>\n",
       "      <th></th>\n",
       "      <th></th>\n",
       "      <th></th>\n",
       "    </tr>\n",
       "  </thead>\n",
       "  <tbody>\n",
       "    <tr>\n",
       "      <th>Masculino</th>\n",
       "      <td>256</td>\n",
       "      <td>22194</td>\n",
       "      <td>5502</td>\n",
       "      <td>235</td>\n",
       "      <td>25063</td>\n",
       "    </tr>\n",
       "    <tr>\n",
       "      <th>Femenino</th>\n",
       "      <td>101</td>\n",
       "      <td>9621</td>\n",
       "      <td>2889</td>\n",
       "      <td>117</td>\n",
       "      <td>10862</td>\n",
       "    </tr>\n",
       "  </tbody>\n",
       "</table>\n",
       "</div>"
      ],
      "text/plain": [
       "Color      Indígena  Blanco  Negro  Amarillo  Pardo\n",
       "Sexo                                               \n",
       "Masculino       256   22194   5502       235  25063\n",
       "Femenino        101    9621   2889       117  10862"
      ]
     },
     "execution_count": 217,
     "metadata": {},
     "output_type": "execute_result"
    }
   ],
   "source": [
    "frecuencia.rename(index=sexo, columns=color, inplace=True)\n",
    "frecuencia"
   ]
  },
  {
   "cell_type": "markdown",
   "id": "c494af70",
   "metadata": {},
   "source": [
    "#### ¿Y el porcentaje?"
   ]
  },
  {
   "cell_type": "code",
   "execution_count": 218,
   "id": "8924d1a8",
   "metadata": {},
   "outputs": [
    {
     "data": {
      "text/html": [
       "<div>\n",
       "<style scoped>\n",
       "    .dataframe tbody tr th:only-of-type {\n",
       "        vertical-align: middle;\n",
       "    }\n",
       "\n",
       "    .dataframe tbody tr th {\n",
       "        vertical-align: top;\n",
       "    }\n",
       "\n",
       "    .dataframe thead th {\n",
       "        text-align: right;\n",
       "    }\n",
       "</style>\n",
       "<table border=\"1\" class=\"dataframe\">\n",
       "  <thead>\n",
       "    <tr style=\"text-align: right;\">\n",
       "      <th>Color</th>\n",
       "      <th>Indígena</th>\n",
       "      <th>Blanco</th>\n",
       "      <th>Negro</th>\n",
       "      <th>Amarillo</th>\n",
       "      <th>Pardo</th>\n",
       "    </tr>\n",
       "    <tr>\n",
       "      <th>Sexo</th>\n",
       "      <th></th>\n",
       "      <th></th>\n",
       "      <th></th>\n",
       "      <th></th>\n",
       "      <th></th>\n",
       "    </tr>\n",
       "  </thead>\n",
       "  <tbody>\n",
       "    <tr>\n",
       "      <th>Masculino</th>\n",
       "      <td>0.003332</td>\n",
       "      <td>0.288834</td>\n",
       "      <td>0.071603</td>\n",
       "      <td>0.003058</td>\n",
       "      <td>0.326171</td>\n",
       "    </tr>\n",
       "    <tr>\n",
       "      <th>Femenino</th>\n",
       "      <td>0.001314</td>\n",
       "      <td>0.125208</td>\n",
       "      <td>0.037598</td>\n",
       "      <td>0.001523</td>\n",
       "      <td>0.141359</td>\n",
       "    </tr>\n",
       "  </tbody>\n",
       "</table>\n",
       "</div>"
      ],
      "text/plain": [
       "Color      Indígena    Blanco     Negro  Amarillo     Pardo\n",
       "Sexo                                                       \n",
       "Masculino  0.003332  0.288834  0.071603  0.003058  0.326171\n",
       "Femenino   0.001314  0.125208  0.037598  0.001523  0.141359"
      ]
     },
     "execution_count": 218,
     "metadata": {},
     "output_type": "execute_result"
    }
   ],
   "source": [
    "porcentaje = pd.crosstab(datos.Sexo, datos.Color, normalize=True)\n",
    "porcentaje.rename(index=sexo, columns=color, inplace=True)\n",
    "porcentaje"
   ]
  },
  {
   "cell_type": "code",
   "execution_count": 219,
   "id": "a8f3b767",
   "metadata": {},
   "outputs": [
    {
     "data": {
      "text/html": [
       "<div>\n",
       "<style scoped>\n",
       "    .dataframe tbody tr th:only-of-type {\n",
       "        vertical-align: middle;\n",
       "    }\n",
       "\n",
       "    .dataframe tbody tr th {\n",
       "        vertical-align: top;\n",
       "    }\n",
       "\n",
       "    .dataframe thead th {\n",
       "        text-align: right;\n",
       "    }\n",
       "</style>\n",
       "<table border=\"1\" class=\"dataframe\">\n",
       "  <thead>\n",
       "    <tr style=\"text-align: right;\">\n",
       "      <th>Color</th>\n",
       "      <th>Indígena</th>\n",
       "      <th>Blanco</th>\n",
       "      <th>Negro</th>\n",
       "      <th>Amarillo</th>\n",
       "      <th>Pardo</th>\n",
       "    </tr>\n",
       "    <tr>\n",
       "      <th>Sexo</th>\n",
       "      <th></th>\n",
       "      <th></th>\n",
       "      <th></th>\n",
       "      <th></th>\n",
       "      <th></th>\n",
       "    </tr>\n",
       "  </thead>\n",
       "  <tbody>\n",
       "    <tr>\n",
       "      <th>Masculino</th>\n",
       "      <td>0.333160</td>\n",
       "      <td>28.883394</td>\n",
       "      <td>7.160333</td>\n",
       "      <td>0.305830</td>\n",
       "      <td>32.617126</td>\n",
       "    </tr>\n",
       "    <tr>\n",
       "      <th>Femenino</th>\n",
       "      <td>0.131442</td>\n",
       "      <td>12.520822</td>\n",
       "      <td>3.759761</td>\n",
       "      <td>0.152264</td>\n",
       "      <td>14.135867</td>\n",
       "    </tr>\n",
       "  </tbody>\n",
       "</table>\n",
       "</div>"
      ],
      "text/plain": [
       "Color      Indígena     Blanco     Negro  Amarillo      Pardo\n",
       "Sexo                                                         \n",
       "Masculino  0.333160  28.883394  7.160333  0.305830  32.617126\n",
       "Femenino   0.131442  12.520822  3.759761  0.152264  14.135867"
      ]
     },
     "execution_count": 219,
     "metadata": {},
     "output_type": "execute_result"
    }
   ],
   "source": [
    "porcentaje = porcentaje.map(lambda x: x * 100)\n",
    "porcentaje"
   ]
  },
  {
   "cell_type": "markdown",
   "id": "697889bc",
   "metadata": {},
   "source": [
    "### Distribución de ingreso en función de sexo y color"
   ]
  },
  {
   "cell_type": "markdown",
   "id": "d8573f21",
   "metadata": {},
   "source": [
    "`aggfunc='mean'` -> indica que se quiere calcular la media de datos. Ingreso para cada combinación de sexo y color. Existen otras funciones de agregación como sum, count, etc.\n",
    "\n",
    "`values=datos.Ingreso` -> especifica la variable numérica cuyos valores se agregarán en cada celda de la tabla"
   ]
  },
  {
   "cell_type": "code",
   "execution_count": 220,
   "id": "77e1588a",
   "metadata": {},
   "outputs": [
    {
     "data": {
      "text/html": [
       "<div>\n",
       "<style scoped>\n",
       "    .dataframe tbody tr th:only-of-type {\n",
       "        vertical-align: middle;\n",
       "    }\n",
       "\n",
       "    .dataframe tbody tr th {\n",
       "        vertical-align: top;\n",
       "    }\n",
       "\n",
       "    .dataframe thead th {\n",
       "        text-align: right;\n",
       "    }\n",
       "</style>\n",
       "<table border=\"1\" class=\"dataframe\">\n",
       "  <thead>\n",
       "    <tr style=\"text-align: right;\">\n",
       "      <th>Color</th>\n",
       "      <th>Indígena</th>\n",
       "      <th>Blanco</th>\n",
       "      <th>Negro</th>\n",
       "      <th>Amarillo</th>\n",
       "      <th>Pardo</th>\n",
       "    </tr>\n",
       "    <tr>\n",
       "      <th>Sexo</th>\n",
       "      <th></th>\n",
       "      <th></th>\n",
       "      <th></th>\n",
       "      <th></th>\n",
       "      <th></th>\n",
       "    </tr>\n",
       "  </thead>\n",
       "  <tbody>\n",
       "    <tr>\n",
       "      <th>Masculino</th>\n",
       "      <td>1081.710938</td>\n",
       "      <td>2925.744435</td>\n",
       "      <td>1603.861687</td>\n",
       "      <td>4758.251064</td>\n",
       "      <td>1659.577425</td>\n",
       "    </tr>\n",
       "    <tr>\n",
       "      <th>Femenino</th>\n",
       "      <td>2464.386139</td>\n",
       "      <td>2109.866750</td>\n",
       "      <td>1134.596400</td>\n",
       "      <td>3027.341880</td>\n",
       "      <td>1176.758516</td>\n",
       "    </tr>\n",
       "  </tbody>\n",
       "</table>\n",
       "</div>"
      ],
      "text/plain": [
       "Color         Indígena       Blanco        Negro     Amarillo        Pardo\n",
       "Sexo                                                                      \n",
       "Masculino  1081.710938  2925.744435  1603.861687  4758.251064  1659.577425\n",
       "Femenino   2464.386139  2109.866750  1134.596400  3027.341880  1176.758516"
      ]
     },
     "execution_count": 220,
     "metadata": {},
     "output_type": "execute_result"
    }
   ],
   "source": [
    "porcentaje = pd.crosstab(datos.Sexo,datos.Color, aggfunc='mean', values=datos.Ingreso)\n",
    "porcentaje.rename(index = sexo, columns=color, inplace=True)\n",
    "porcentaje"
   ]
  },
  {
   "cell_type": "markdown",
   "id": "f5b16ec9",
   "metadata": {},
   "source": [
    "La tabla mostrada entrega la media de infreso para cada combinación de Sexo y Color. Permite comparar, por ejemplo, si hay diferencias significativas en los ingresos promedio entre hombres y mujeres de diferentes etnias."
   ]
  },
  {
   "cell_type": "markdown",
   "id": "e9494f39",
   "metadata": {},
   "source": [
    "# Tablas de frecuencias cuantitativas"
   ]
  },
  {
   "cell_type": "markdown",
   "id": "88a45d31",
   "metadata": {},
   "source": [
    "## 1. Especificando los límites de cada clase"
   ]
  },
  {
   "cell_type": "markdown",
   "id": "c8fd917e",
   "metadata": {},
   "source": [
    "A -> Más de 20 SM  \n",
    "B -> De 10 a 20 SM  \n",
    "C -> de 4 a 10 SM  \n",
    "D -> de 2 a 4 SM  \n",
    "e -> Hasta 2 SM  \n",
    "\n",
    "*SM es el valor del salario mínimo (788 mil pesos colombianos al 2018)*\n",
    "\n",
    "A -> Más de 15.760  \n",
    "B -> De 7.880 a 15.760  \n",
    "C -> de 3.152 a 7.880  \n",
    "D -> de 1.576 a 4 3.152  \n",
    "e -> Hasta 1.576  "
   ]
  },
  {
   "cell_type": "code",
   "execution_count": 221,
   "id": "37a06e98",
   "metadata": {},
   "outputs": [
    {
     "data": {
      "text/plain": [
       "0"
      ]
     },
     "execution_count": 221,
     "metadata": {},
     "output_type": "execute_result"
    }
   ],
   "source": [
    "datos.Ingreso.min()"
   ]
  },
  {
   "cell_type": "code",
   "execution_count": 222,
   "id": "56734d6d",
   "metadata": {},
   "outputs": [
    {
     "data": {
      "text/plain": [
       "200000"
      ]
     },
     "execution_count": 222,
     "metadata": {},
     "output_type": "execute_result"
    }
   ],
   "source": [
    "datos.Ingreso.max()"
   ]
  },
  {
   "cell_type": "code",
   "execution_count": 223,
   "id": "0a6d0156",
   "metadata": {},
   "outputs": [],
   "source": [
    "clases = [0, 1576, 3152, 7880, 15760, 200000]"
   ]
  },
  {
   "cell_type": "code",
   "execution_count": 224,
   "id": "909df4c9",
   "metadata": {},
   "outputs": [],
   "source": [
    "label = ['E', 'D', 'C', 'B', 'A']"
   ]
  },
  {
   "cell_type": "markdown",
   "id": "45fc8723",
   "metadata": {},
   "source": [
    "## 2. Crear tabla de frecuencias"
   ]
  },
  {
   "cell_type": "markdown",
   "id": "9d6ca686",
   "metadata": {},
   "source": [
    "### Distribución de frecuencia para variables cuantitativas (clases personalizadas)"
   ]
  },
  {
   "cell_type": "markdown",
   "id": "51621a91",
   "metadata": {},
   "source": [
    "#### Utilizando pd.cut()"
   ]
  },
  {
   "cell_type": "code",
   "execution_count": 225,
   "id": "d0b04f27",
   "metadata": {},
   "outputs": [
    {
     "data": {
      "text/plain": [
       "Ingreso\n",
       "E    49755\n",
       "D    16700\n",
       "C     7599\n",
       "B     2178\n",
       "A      608\n",
       "Name: count, dtype: int64"
      ]
     },
     "execution_count": 225,
     "metadata": {},
     "output_type": "execute_result"
    }
   ],
   "source": [
    "# en primer lugar es necesario ver los valores absolutos\n",
    "# bins hará uso de los intervalos creados\n",
    "# include_lowest es para que incluya el valor mínimo (0)\n",
    "frecuencia = pd.cut(x = datos.Ingreso, bins=clases, labels=label, include_lowest=True)\n",
    "\n",
    "frecuencia = frecuencia.value_counts()\n",
    "frecuencia"
   ]
  },
  {
   "cell_type": "code",
   "execution_count": 226,
   "id": "2cdb9305",
   "metadata": {},
   "outputs": [
    {
     "data": {
      "text/plain": [
       "Ingreso\n",
       "E    64.75\n",
       "D    21.73\n",
       "C     9.89\n",
       "B     2.83\n",
       "A     0.79\n",
       "Name: proportion, dtype: float64"
      ]
     },
     "execution_count": 226,
     "metadata": {},
     "output_type": "execute_result"
    }
   ],
   "source": [
    "porcentaje = pd.cut(x=datos.Ingreso, bins=clases, labels=label, include_lowest=True)\n",
    "\n",
    "porcentaje = porcentaje.value_counts(normalize=True).round(4)*100\n",
    "porcentaje"
   ]
  },
  {
   "cell_type": "code",
   "execution_count": 227,
   "id": "5055098f",
   "metadata": {},
   "outputs": [
    {
     "data": {
      "text/html": [
       "<div>\n",
       "<style scoped>\n",
       "    .dataframe tbody tr th:only-of-type {\n",
       "        vertical-align: middle;\n",
       "    }\n",
       "\n",
       "    .dataframe tbody tr th {\n",
       "        vertical-align: top;\n",
       "    }\n",
       "\n",
       "    .dataframe thead th {\n",
       "        text-align: right;\n",
       "    }\n",
       "</style>\n",
       "<table border=\"1\" class=\"dataframe\">\n",
       "  <thead>\n",
       "    <tr style=\"text-align: right;\">\n",
       "      <th></th>\n",
       "      <th>Frecuencia</th>\n",
       "      <th>Porcentaje</th>\n",
       "    </tr>\n",
       "    <tr>\n",
       "      <th>Ingreso</th>\n",
       "      <th></th>\n",
       "      <th></th>\n",
       "    </tr>\n",
       "  </thead>\n",
       "  <tbody>\n",
       "    <tr>\n",
       "      <th>A</th>\n",
       "      <td>608</td>\n",
       "      <td>0.79</td>\n",
       "    </tr>\n",
       "    <tr>\n",
       "      <th>B</th>\n",
       "      <td>2178</td>\n",
       "      <td>2.83</td>\n",
       "    </tr>\n",
       "    <tr>\n",
       "      <th>C</th>\n",
       "      <td>7599</td>\n",
       "      <td>9.89</td>\n",
       "    </tr>\n",
       "    <tr>\n",
       "      <th>D</th>\n",
       "      <td>16700</td>\n",
       "      <td>21.73</td>\n",
       "    </tr>\n",
       "    <tr>\n",
       "      <th>E</th>\n",
       "      <td>49755</td>\n",
       "      <td>64.75</td>\n",
       "    </tr>\n",
       "  </tbody>\n",
       "</table>\n",
       "</div>"
      ],
      "text/plain": [
       "         Frecuencia  Porcentaje\n",
       "Ingreso                        \n",
       "A               608        0.79\n",
       "B              2178        2.83\n",
       "C              7599        9.89\n",
       "D             16700       21.73\n",
       "E             49755       64.75"
      ]
     },
     "execution_count": 227,
     "metadata": {},
     "output_type": "execute_result"
    }
   ],
   "source": [
    "dist_frec_cuantitativa = pd.DataFrame({'Frecuencia':frecuencia, 'Porcentaje': porcentaje})\n",
    "dist_frec_cuantitativa.sort_index(ascending=False)"
   ]
  },
  {
   "cell_type": "markdown",
   "id": "2fbabf8e",
   "metadata": {},
   "source": [
    "### Distribución de frecuencias para variables cuantitativas (clases de amplitud fija)"
   ]
  },
  {
   "cell_type": "markdown",
   "id": "9b2c0ed0",
   "metadata": {},
   "source": [
    "#### Paso 1 - definiendo el número de clases"
   ]
  },
  {
   "cell_type": "markdown",
   "id": "d4d643e3",
   "metadata": {},
   "source": [
    "##### Regla de Sturges\n",
    "\n",
    "Ejemplo: Al organizar una biblioteca en la casa hay una gran cantidad de libros y se necesita saber el número de estantes necesarios para la biblioteca. \n",
    "Para encontrar esto la Regla de Sturges definirá un número de estantes en donde los libros no quedarán muy apretados ni tampoco con muchos lugares libres.\n",
    "\n",
    "$$k = 1 = \\frac {10}{3}\\log_{10}n$$"
   ]
  },
  {
   "cell_type": "code",
   "execution_count": 228,
   "id": "834a9fe7",
   "metadata": {},
   "outputs": [],
   "source": [
    "import numpy as np"
   ]
  },
  {
   "cell_type": "code",
   "execution_count": 229,
   "id": "a436ba8f",
   "metadata": {},
   "outputs": [
    {
     "data": {
      "text/plain": [
       "np.float64(17.285291187298853)"
      ]
     },
     "execution_count": 229,
     "metadata": {},
     "output_type": "execute_result"
    }
   ],
   "source": [
    "# Calculando regla de sturges para encontrar amplitud fija\n",
    "\n",
    "# 1. n será el tamaño de base de datos\n",
    "n = datos.shape[0] # 76840 líneas\n",
    "\n",
    "# 2. k\n",
    "k = 1 + (10/3) * np.log10(n)\n",
    "k  # np.float64(17.285291187298853)"
   ]
  },
  {
   "cell_type": "markdown",
   "id": "f31640ee",
   "metadata": {},
   "source": [
    "De acuerdo al cálculo realizado con la Regla de Sturges, será necesario crear 17 clases.\n",
    "\n",
    "Esto deberá cambiar:\n",
    "```python\n",
    "clases = [0, 1576, 3152, 7880, 15760, 200000]\n",
    "```"
   ]
  },
  {
   "cell_type": "markdown",
   "id": "916026cc",
   "metadata": {},
   "source": [
    "#### Cómo crear la tabla de frecuencias:"
   ]
  },
  {
   "cell_type": "code",
   "execution_count": 230,
   "id": "ef7cf670",
   "metadata": {},
   "outputs": [
    {
     "data": {
      "text/plain": [
       "Ingreso\n",
       "(-200.001, 11764.706]       75594\n",
       "(11764.706, 23529.412]       1022\n",
       "(23529.412, 35294.118]        169\n",
       "(35294.118, 47058.824]         19\n",
       "(47058.824, 58823.529]         16\n",
       "(94117.647, 105882.353]         6\n",
       "(58823.529, 70588.235]          5\n",
       "(70588.235, 82352.941]          4\n",
       "(188235.294, 200000.0]          3\n",
       "(82352.941, 94117.647]          1\n",
       "(117647.059, 129411.765]        1\n",
       "(105882.353, 117647.059]        0\n",
       "(129411.765, 141176.471]        0\n",
       "(141176.471, 152941.176]        0\n",
       "(152941.176, 164705.882]        0\n",
       "(164705.882, 176470.588]        0\n",
       "(176470.588, 188235.294]        0\n",
       "Name: count, dtype: int64"
      ]
     },
     "execution_count": 230,
     "metadata": {},
     "output_type": "execute_result"
    }
   ],
   "source": [
    "frecuencia_sturges = pd.cut(\n",
    "  x=datos.Ingreso, \n",
    "  bins=17, # acá cambió el número de clases, labels ya no serán necesarios\n",
    "  include_lowest=True).value_counts()\n",
    "\n",
    "frecuencia_sturges"
   ]
  },
  {
   "cell_type": "markdown",
   "id": "2803db0b",
   "metadata": {},
   "source": [
    "### Ejercicio:\n",
    "Ver proporción por cada una de las clases recién encontradas."
   ]
  },
  {
   "cell_type": "code",
   "execution_count": 232,
   "id": "0d82f7d3",
   "metadata": {},
   "outputs": [
    {
     "data": {
      "text/plain": [
       "Ingreso\n",
       "(-200.001, 11764.706]       98.38\n",
       "(11764.706, 23529.412]       1.33\n",
       "(23529.412, 35294.118]       0.22\n",
       "(35294.118, 47058.824]       0.02\n",
       "(47058.824, 58823.529]       0.02\n",
       "(58823.529, 70588.235]       0.01\n",
       "(70588.235, 82352.941]       0.01\n",
       "(82352.941, 94117.647]       0.00\n",
       "(94117.647, 105882.353]      0.01\n",
       "(105882.353, 117647.059]     0.00\n",
       "(117647.059, 129411.765]     0.00\n",
       "(129411.765, 141176.471]     0.00\n",
       "(141176.471, 152941.176]     0.00\n",
       "(152941.176, 164705.882]     0.00\n",
       "(164705.882, 176470.588]     0.00\n",
       "(176470.588, 188235.294]     0.00\n",
       "(188235.294, 200000.0]       0.00\n",
       "Name: proportion, dtype: float64"
      ]
     },
     "execution_count": 232,
     "metadata": {},
     "output_type": "execute_result"
    }
   ],
   "source": [
    "porcentaje_sturges = pd.cut(\n",
    "    x=datos.Ingreso,\n",
    "    bins=17,  # acá cambió el número de clases, labels ya no serán necesarios\n",
    "    include_lowest=True,\n",
    ").value_counts(sort=False, normalize=True).round(4)*100\n",
    "\n",
    "porcentaje_sturges"
   ]
  },
  {
   "cell_type": "code",
   "execution_count": 233,
   "id": "c6cb1928",
   "metadata": {},
   "outputs": [
    {
     "data": {
      "text/html": [
       "<div>\n",
       "<style scoped>\n",
       "    .dataframe tbody tr th:only-of-type {\n",
       "        vertical-align: middle;\n",
       "    }\n",
       "\n",
       "    .dataframe tbody tr th {\n",
       "        vertical-align: top;\n",
       "    }\n",
       "\n",
       "    .dataframe thead th {\n",
       "        text-align: right;\n",
       "    }\n",
       "</style>\n",
       "<table border=\"1\" class=\"dataframe\">\n",
       "  <thead>\n",
       "    <tr style=\"text-align: right;\">\n",
       "      <th></th>\n",
       "      <th>Frecuencia</th>\n",
       "      <th>Porcentaje</th>\n",
       "    </tr>\n",
       "    <tr>\n",
       "      <th>Ingreso</th>\n",
       "      <th></th>\n",
       "      <th></th>\n",
       "    </tr>\n",
       "  </thead>\n",
       "  <tbody>\n",
       "    <tr>\n",
       "      <th>(-200.001, 11764.706]</th>\n",
       "      <td>75594</td>\n",
       "      <td>98.38</td>\n",
       "    </tr>\n",
       "    <tr>\n",
       "      <th>(11764.706, 23529.412]</th>\n",
       "      <td>1022</td>\n",
       "      <td>1.33</td>\n",
       "    </tr>\n",
       "    <tr>\n",
       "      <th>(23529.412, 35294.118]</th>\n",
       "      <td>169</td>\n",
       "      <td>0.22</td>\n",
       "    </tr>\n",
       "    <tr>\n",
       "      <th>(35294.118, 47058.824]</th>\n",
       "      <td>19</td>\n",
       "      <td>0.02</td>\n",
       "    </tr>\n",
       "    <tr>\n",
       "      <th>(47058.824, 58823.529]</th>\n",
       "      <td>16</td>\n",
       "      <td>0.02</td>\n",
       "    </tr>\n",
       "    <tr>\n",
       "      <th>(58823.529, 70588.235]</th>\n",
       "      <td>5</td>\n",
       "      <td>0.01</td>\n",
       "    </tr>\n",
       "    <tr>\n",
       "      <th>(70588.235, 82352.941]</th>\n",
       "      <td>4</td>\n",
       "      <td>0.01</td>\n",
       "    </tr>\n",
       "    <tr>\n",
       "      <th>(82352.941, 94117.647]</th>\n",
       "      <td>1</td>\n",
       "      <td>0.00</td>\n",
       "    </tr>\n",
       "    <tr>\n",
       "      <th>(94117.647, 105882.353]</th>\n",
       "      <td>6</td>\n",
       "      <td>0.01</td>\n",
       "    </tr>\n",
       "    <tr>\n",
       "      <th>(105882.353, 117647.059]</th>\n",
       "      <td>0</td>\n",
       "      <td>0.00</td>\n",
       "    </tr>\n",
       "    <tr>\n",
       "      <th>(117647.059, 129411.765]</th>\n",
       "      <td>1</td>\n",
       "      <td>0.00</td>\n",
       "    </tr>\n",
       "    <tr>\n",
       "      <th>(129411.765, 141176.471]</th>\n",
       "      <td>0</td>\n",
       "      <td>0.00</td>\n",
       "    </tr>\n",
       "    <tr>\n",
       "      <th>(141176.471, 152941.176]</th>\n",
       "      <td>0</td>\n",
       "      <td>0.00</td>\n",
       "    </tr>\n",
       "    <tr>\n",
       "      <th>(152941.176, 164705.882]</th>\n",
       "      <td>0</td>\n",
       "      <td>0.00</td>\n",
       "    </tr>\n",
       "    <tr>\n",
       "      <th>(164705.882, 176470.588]</th>\n",
       "      <td>0</td>\n",
       "      <td>0.00</td>\n",
       "    </tr>\n",
       "    <tr>\n",
       "      <th>(176470.588, 188235.294]</th>\n",
       "      <td>0</td>\n",
       "      <td>0.00</td>\n",
       "    </tr>\n",
       "    <tr>\n",
       "      <th>(188235.294, 200000.0]</th>\n",
       "      <td>3</td>\n",
       "      <td>0.00</td>\n",
       "    </tr>\n",
       "  </tbody>\n",
       "</table>\n",
       "</div>"
      ],
      "text/plain": [
       "                          Frecuencia  Porcentaje\n",
       "Ingreso                                         \n",
       "(-200.001, 11764.706]          75594       98.38\n",
       "(11764.706, 23529.412]          1022        1.33\n",
       "(23529.412, 35294.118]           169        0.22\n",
       "(35294.118, 47058.824]            19        0.02\n",
       "(47058.824, 58823.529]            16        0.02\n",
       "(58823.529, 70588.235]             5        0.01\n",
       "(70588.235, 82352.941]             4        0.01\n",
       "(82352.941, 94117.647]             1        0.00\n",
       "(94117.647, 105882.353]            6        0.01\n",
       "(105882.353, 117647.059]           0        0.00\n",
       "(117647.059, 129411.765]           1        0.00\n",
       "(129411.765, 141176.471]           0        0.00\n",
       "(141176.471, 152941.176]           0        0.00\n",
       "(152941.176, 164705.882]           0        0.00\n",
       "(164705.882, 176470.588]           0        0.00\n",
       "(176470.588, 188235.294]           0        0.00\n",
       "(188235.294, 200000.0]             3        0.00"
      ]
     },
     "execution_count": 233,
     "metadata": {},
     "output_type": "execute_result"
    }
   ],
   "source": [
    "dist_frec_cuantitativa_amplitud_fija = pd.DataFrame({'Frecuencia':frecuencia_sturges, 'Porcentaje': porcentaje_sturges})\n",
    "dist_frec_cuantitativa_amplitud_fija"
   ]
  },
  {
   "cell_type": "markdown",
   "id": "92fb9330",
   "metadata": {},
   "source": [
    "# Visualización de frecuencias con histogramas"
   ]
  },
  {
   "cell_type": "markdown",
   "id": "36df9382",
   "metadata": {},
   "source": [
    "El Histograma es la representación gráfica de una distribución de frecuencia. Es un gráfico por un conjunto de rectángulos colocados uno al lado del otro, donde el área de cada rectángulo es proporcional a la frecuencia de la clase que representa."
   ]
  },
  {
   "cell_type": "code",
   "execution_count": 234,
   "id": "239ff480",
   "metadata": {},
   "outputs": [],
   "source": [
    "import seaborn as sns"
   ]
  },
  {
   "cell_type": "code",
   "execution_count": null,
   "id": "3fabf60c",
   "metadata": {},
   "outputs": [
    {
     "name": "stderr",
     "output_type": "stream",
     "text": [
      "/var/folders/45/nnwdvrcs63j3c_75jxv__q_80000gn/T/ipykernel_5728/3527734714.py:2: UserWarning: \n",
      "\n",
      "`distplot` is a deprecated function and will be removed in seaborn v0.14.0.\n",
      "\n",
      "Please adapt your code to use either `displot` (a figure-level function with\n",
      "similar flexibility) or `histplot` (an axes-level function for histograms).\n",
      "\n",
      "For a guide to updating your code to use the new functions, please see\n",
      "https://gist.github.com/mwaskom/de44147ed2974457ad6372750bbe5751\n",
      "\n",
      "  ax = sns.distplot(datos.Altura, kde=False)\n"
     ]
    },
    {
     "data": {
      "text/plain": [
       "<Axes: title={'center': 'Distribución de frecuencia - Altura'}, xlabel='Altura (metros)'>"
      ]
     },
     "execution_count": 237,
     "metadata": {},
     "output_type": "execute_result"
    },
    {
     "data": {
      "image/png": "[encoded data removed]",
      "text/plain": [
       "<Figure size 1200x600 with 1 Axes>"
      ]
     },
     "metadata": {},
     "output_type": "display_data"
    }
   ],
   "source": [
    "# kde es para ver como se ajusta la línea a medida que va creciendo\n",
    "ax = sns.distplot(datos.Altura, kde=False)\n",
    "\n",
    "ax.figure.set_size_inches(12,6)\n",
    "ax.set_title('Distribución de frecuencia - Altura', fontsize=18)\n",
    "ax.set_xlabel('Altura (metros)', fontsize=14)\n",
    "ax"
   ]
  },
  {
   "cell_type": "code",
   "execution_count": 238,
   "id": "129585ca",
   "metadata": {},
   "outputs": [
    {
     "name": "stderr",
     "output_type": "stream",
     "text": [
      "/var/folders/45/nnwdvrcs63j3c_75jxv__q_80000gn/T/ipykernel_5728/2597978037.py:1: UserWarning: \n",
      "\n",
      "`distplot` is a deprecated function and will be removed in seaborn v0.14.0.\n",
      "\n",
      "Please adapt your code to use either `displot` (a figure-level function with\n",
      "similar flexibility) or `histplot` (an axes-level function for histograms).\n",
      "\n",
      "For a guide to updating your code to use the new functions, please see\n",
      "https://gist.github.com/mwaskom/de44147ed2974457ad6372750bbe5751\n",
      "\n",
      "  ax = sns.distplot(datos.Altura, kde=True)\n"
     ]
    },
    {
     "data": {
      "text/plain": [
       "<Axes: title={'center': 'Distribución de frecuencia - Altura - KDE'}, xlabel='Altura (metros)', ylabel='Density'>"
      ]
     },
     "execution_count": 238,
     "metadata": {},
     "output_type": "execute_result"
    },
    {
     "data": {
      "image/png": "[encoded data removed]",
      "text/plain": [
       "<Figure size 1200x600 with 1 Axes>"
      ]
     },
     "metadata": {},
     "output_type": "display_data"
    }
   ],
   "source": [
    "ax = sns.distplot(datos.Altura, kde=True)\n",
    "\n",
    "ax.figure.set_size_inches(12, 6)\n",
    "ax.set_title(\"Distribución de frecuencia - Altura - KDE\", fontsize=18)\n",
    "ax.set_xlabel(\"Altura (metros)\", fontsize=14)\n",
    "ax"
   ]
  },
  {
   "cell_type": "code",
   "execution_count": 241,
   "id": "23147ead",
   "metadata": {},
   "outputs": [
    {
     "name": "stderr",
     "output_type": "stream",
     "text": [
      "/var/folders/45/nnwdvrcs63j3c_75jxv__q_80000gn/T/ipykernel_5728/2551308470.py:2: UserWarning: \n",
      "\n",
      "`distplot` is a deprecated function and will be removed in seaborn v0.14.0.\n",
      "\n",
      "Please adapt your code to use either `displot` (a figure-level function with\n",
      "similar flexibility) or `histplot` (an axes-level function for histograms).\n",
      "\n",
      "For a guide to updating your code to use the new functions, please see\n",
      "https://gist.github.com/mwaskom/de44147ed2974457ad6372750bbe5751\n",
      "\n",
      "  ax = sns.distplot(datos.Edad, kde=True)\n"
     ]
    },
    {
     "data": {
      "text/plain": [
       "<Axes: title={'center': 'Distribución de frecuencia - Edad - KDE'}, xlabel='Edad (años)', ylabel='Density'>"
      ]
     },
     "execution_count": 241,
     "metadata": {},
     "output_type": "execute_result"
    },
    {
     "data": {
      "image/png": "[encoded data removed]",
      "text/plain": [
       "<Figure size 1200x600 with 1 Axes>"
      ]
     },
     "metadata": {},
     "output_type": "display_data"
    }
   ],
   "source": [
    "# Hacer un histograma con la edad\n",
    "ax = sns.distplot(datos.Edad, kde=True)\n",
    "ax.figure.set_size_inches(12, 6)\n",
    "ax.set_title(\"Distribución de frecuencia - Edad - KDE\", fontsize=18)\n",
    "ax.set_xlabel(\"Edad (años)\", fontsize=14)\n",
    "ax"
   ]
  }
 ],
 "metadata": {
  "kernelspec": {
   "display_name": "condaenv",
   "language": "python",
   "name": "python3"
  },
  "language_info": {
   "codemirror_mode": {
    "name": "ipython",
    "version": 3
   },
   "file_extension": ".py",
   "mimetype": "text/x-python",
   "name": "python",
   "nbconvert_exporter": "python",
   "pygments_lexer": "ipython3",
   "version": "3.13.2"
  }
 },
 "nbformat": 4,
 "nbformat_minor": 5
}
