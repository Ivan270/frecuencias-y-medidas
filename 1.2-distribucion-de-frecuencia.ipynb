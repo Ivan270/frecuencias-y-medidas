{
 "cells": [
  {
   "cell_type": "markdown",
   "id": "662b8776",
   "metadata": {},
   "source": [
    "# Datos anteriores"
   ]
  },
  {
   "cell_type": "code",
   "execution_count": 59,
   "id": "62d58f72",
   "metadata": {},
   "outputs": [
    {
     "data": {
      "text/html": [
       "<div>\n",
       "<style scoped>\n",
       "    .dataframe tbody tr th:only-of-type {\n",
       "        vertical-align: middle;\n",
       "    }\n",
       "\n",
       "    .dataframe tbody tr th {\n",
       "        vertical-align: top;\n",
       "    }\n",
       "\n",
       "    .dataframe thead th {\n",
       "        text-align: right;\n",
       "    }\n",
       "</style>\n",
       "<table border=\"1\" class=\"dataframe\">\n",
       "  <thead>\n",
       "    <tr style=\"text-align: right;\">\n",
       "      <th></th>\n",
       "      <th>Ciudad</th>\n",
       "      <th>Sexo</th>\n",
       "      <th>Edad</th>\n",
       "      <th>Color</th>\n",
       "      <th>Años de Estudio</th>\n",
       "      <th>Ingreso</th>\n",
       "      <th>Altura</th>\n",
       "    </tr>\n",
       "  </thead>\n",
       "  <tbody>\n",
       "    <tr>\n",
       "      <th>38407</th>\n",
       "      <td>31</td>\n",
       "      <td>1</td>\n",
       "      <td>43</td>\n",
       "      <td>8</td>\n",
       "      <td>7</td>\n",
       "      <td>788</td>\n",
       "      <td>1.829673</td>\n",
       "    </tr>\n",
       "    <tr>\n",
       "      <th>73450</th>\n",
       "      <td>52</td>\n",
       "      <td>0</td>\n",
       "      <td>49</td>\n",
       "      <td>8</td>\n",
       "      <td>8</td>\n",
       "      <td>2500</td>\n",
       "      <td>1.743811</td>\n",
       "    </tr>\n",
       "    <tr>\n",
       "      <th>75363</th>\n",
       "      <td>53</td>\n",
       "      <td>1</td>\n",
       "      <td>36</td>\n",
       "      <td>2</td>\n",
       "      <td>16</td>\n",
       "      <td>2000</td>\n",
       "      <td>1.906094</td>\n",
       "    </tr>\n",
       "    <tr>\n",
       "      <th>48334</th>\n",
       "      <td>35</td>\n",
       "      <td>0</td>\n",
       "      <td>56</td>\n",
       "      <td>2</td>\n",
       "      <td>2</td>\n",
       "      <td>1800</td>\n",
       "      <td>1.557276</td>\n",
       "    </tr>\n",
       "    <tr>\n",
       "      <th>29991</th>\n",
       "      <td>29</td>\n",
       "      <td>0</td>\n",
       "      <td>28</td>\n",
       "      <td>8</td>\n",
       "      <td>13</td>\n",
       "      <td>788</td>\n",
       "      <td>1.714884</td>\n",
       "    </tr>\n",
       "  </tbody>\n",
       "</table>\n",
       "</div>"
      ],
      "text/plain": [
       "       Ciudad  Sexo  Edad  Color  Años de Estudio  Ingreso    Altura\n",
       "38407      31     1    43      8                7      788  1.829673\n",
       "73450      52     0    49      8                8     2500  1.743811\n",
       "75363      53     1    36      2               16     2000  1.906094\n",
       "48334      35     0    56      2                2     1800  1.557276\n",
       "29991      29     0    28      8               13      788  1.714884"
      ]
     },
     "execution_count": 59,
     "metadata": {},
     "output_type": "execute_result"
    }
   ],
   "source": [
    "import pandas as pd\n",
    "\n",
    "datos = pd.read_csv(\"data/datos.csv\")\n",
    "datos.sample(5)"
   ]
  },
  {
   "cell_type": "markdown",
   "id": "4f57328f",
   "metadata": {},
   "source": [
    "# Distribución de frecuencias para variables cualitativas"
   ]
  },
  {
   "cell_type": "markdown",
   "id": "7a642d4f",
   "metadata": {},
   "source": [
    "## ¿Por qué usar distribución de frecuencias?\n",
    "Para entender el comportamiento de la base de datos. \n",
    "Por ejemplo: Para saber como se comportan las personas del género femenino, cuál es el tipo de ingreso, y análisis por el estilo"
   ]
  },
  {
   "cell_type": "code",
   "execution_count": 60,
   "id": "aa32f551",
   "metadata": {},
   "outputs": [
    {
     "data": {
      "text/plain": [
       "Index(['Ciudad', 'Sexo', 'Edad', 'Color', 'Años de Estudio', 'Ingreso',\n",
       "       'Altura'],\n",
       "      dtype='object')"
      ]
     },
     "execution_count": 60,
     "metadata": {},
     "output_type": "execute_result"
    }
   ],
   "source": [
    "# Identificar variables cualitativas: Sexo, Ciudad, Color\n",
    "datos.columns"
   ]
  },
  {
   "cell_type": "markdown",
   "id": "af9aef31",
   "metadata": {},
   "source": [
    "## Identificando frecuencias:"
   ]
  },
  {
   "cell_type": "markdown",
   "id": "f4a93e84",
   "metadata": {},
   "source": [
    "### Método 1: pandas.Series.value_counts()"
   ]
  },
  {
   "cell_type": "markdown",
   "id": "e3ea89e9",
   "metadata": {},
   "source": [
    "#### Cuántos hombres y cuántas mujeres hay"
   ]
  },
  {
   "cell_type": "code",
   "execution_count": 61,
   "id": "f9d03c7b",
   "metadata": {},
   "outputs": [
    {
     "data": {
      "text/plain": [
       "Sexo\n",
       "0    53250\n",
       "1    23590\n",
       "Name: count, dtype: int64"
      ]
     },
     "execution_count": 61,
     "metadata": {},
     "output_type": "execute_result"
    }
   ],
   "source": [
    "datos.Sexo.value_counts()"
   ]
  },
  {
   "cell_type": "markdown",
   "id": "54aedc2d",
   "metadata": {},
   "source": [
    "#### ¿Y en porcentaje?"
   ]
  },
  {
   "cell_type": "markdown",
   "id": "d688a44c",
   "metadata": {},
   "source": [
    "#### Cambiando el nombre del índice"
   ]
  },
  {
   "cell_type": "code",
   "execution_count": 62,
   "id": "72c99b50",
   "metadata": {},
   "outputs": [],
   "source": [
    "Sexo = {\n",
    "  0: 'Masculino',\n",
    "  1: 'Femenino'\n",
    "}"
   ]
  },
  {
   "cell_type": "code",
   "execution_count": 63,
   "id": "9333e966",
   "metadata": {},
   "outputs": [],
   "source": [
    "sexos = (datos.Sexo.value_counts(normalize=True) * 100)"
   ]
  },
  {
   "cell_type": "code",
   "execution_count": 64,
   "id": "cdfab913",
   "metadata": {},
   "outputs": [
    {
     "data": {
      "text/plain": [
       "Sexo\n",
       "Masculino    69.299844\n",
       "Femenino     30.700156\n",
       "Name: proportion, dtype: float64"
      ]
     },
     "execution_count": 64,
     "metadata": {},
     "output_type": "execute_result"
    }
   ],
   "source": [
    "sexos_renamed = sexos.rename(index=Sexo)\n",
    "sexos_renamed"
   ]
  },
  {
   "cell_type": "markdown",
   "id": "4efb4d76",
   "metadata": {},
   "source": [
    "#### Porcentaje obtenido"
   ]
  },
  {
   "cell_type": "code",
   "execution_count": 65,
   "id": "24c19aff",
   "metadata": {},
   "outputs": [
    {
     "data": {
      "text/plain": [
       "Sexo\n",
       "0    69.299844\n",
       "1    30.700156\n",
       "Name: proportion, dtype: float64"
      ]
     },
     "execution_count": 65,
     "metadata": {},
     "output_type": "execute_result"
    }
   ],
   "source": [
    "datos.Sexo.value_counts(normalize=True) * 100"
   ]
  },
  {
   "cell_type": "code",
   "execution_count": 66,
   "id": "89429386",
   "metadata": {},
   "outputs": [
    {
     "data": {
      "text/plain": [
       "Sexo\n",
       "0    69.3\n",
       "1    30.7\n",
       "Name: proportion, dtype: float64"
      ]
     },
     "execution_count": 66,
     "metadata": {},
     "output_type": "execute_result"
    }
   ],
   "source": [
    "datos.Sexo.value_counts(normalize=True).round(4) * 100"
   ]
  },
  {
   "cell_type": "code",
   "execution_count": 67,
   "id": "d5878af6",
   "metadata": {},
   "outputs": [
    {
     "data": {
      "text/plain": [
       "Sexo\n",
       "0    53250\n",
       "1    23590\n",
       "Name: count, dtype: int64"
      ]
     },
     "execution_count": 67,
     "metadata": {},
     "output_type": "execute_result"
    }
   ],
   "source": [
    "frecuencia_sexo = datos.Sexo.value_counts()\n",
    "frecuencia_sexo"
   ]
  },
  {
   "cell_type": "code",
   "execution_count": 68,
   "id": "5c2774f4",
   "metadata": {},
   "outputs": [],
   "source": [
    "porcentaje_sexo = datos.Sexo.value_counts(normalize=True).round(4) * 100"
   ]
  },
  {
   "cell_type": "markdown",
   "id": "7282bd84",
   "metadata": {},
   "source": [
    "#### Crear nuevo dataframe"
   ]
  },
  {
   "cell_type": "code",
   "execution_count": 69,
   "id": "40d4e767",
   "metadata": {},
   "outputs": [],
   "source": [
    "dist_frec_cualitativa = pd.DataFrame({'Frecuencia': frecuencia_sexo, 'Porcentaje': porcentaje_sexo})"
   ]
  },
  {
   "cell_type": "code",
   "execution_count": null,
   "id": "9fbf4481",
   "metadata": {},
   "outputs": [],
   "source": [
    "dist_frec_cualitativa.rename(index=Sexo, inplace=True)"
   ]
  },
  {
   "cell_type": "code",
   "execution_count": 71,
   "id": "1dc57fbe",
   "metadata": {},
   "outputs": [
    {
     "data": {
      "text/html": [
       "<div>\n",
       "<style scoped>\n",
       "    .dataframe tbody tr th:only-of-type {\n",
       "        vertical-align: middle;\n",
       "    }\n",
       "\n",
       "    .dataframe tbody tr th {\n",
       "        vertical-align: top;\n",
       "    }\n",
       "\n",
       "    .dataframe thead th {\n",
       "        text-align: right;\n",
       "    }\n",
       "</style>\n",
       "<table border=\"1\" class=\"dataframe\">\n",
       "  <thead>\n",
       "    <tr style=\"text-align: right;\">\n",
       "      <th></th>\n",
       "      <th>Frecuencia</th>\n",
       "      <th>Porcentaje</th>\n",
       "    </tr>\n",
       "    <tr>\n",
       "      <th>Sexo</th>\n",
       "      <th></th>\n",
       "      <th></th>\n",
       "    </tr>\n",
       "  </thead>\n",
       "  <tbody>\n",
       "    <tr>\n",
       "      <th>Masculino</th>\n",
       "      <td>53250</td>\n",
       "      <td>69.3</td>\n",
       "    </tr>\n",
       "    <tr>\n",
       "      <th>Femenino</th>\n",
       "      <td>23590</td>\n",
       "      <td>30.7</td>\n",
       "    </tr>\n",
       "  </tbody>\n",
       "</table>\n",
       "</div>"
      ],
      "text/plain": [
       "           Frecuencia  Porcentaje\n",
       "Sexo                             \n",
       "Masculino       53250        69.3\n",
       "Femenino        23590        30.7"
      ]
     },
     "execution_count": 71,
     "metadata": {},
     "output_type": "execute_result"
    }
   ],
   "source": [
    "dist_frec_cualitativa"
   ]
  },
  {
   "cell_type": "markdown",
   "id": "6740ff3e",
   "metadata": {},
   "source": [
    "### Método 2: pandas.crosstab()"
   ]
  },
  {
   "cell_type": "markdown",
   "id": "73bb992c",
   "metadata": {},
   "source": [
    "Se podrá ver dos variables en simultáneo: en este caso color y sexo"
   ]
  },
  {
   "cell_type": "code",
   "execution_count": 72,
   "id": "5bde7ecd",
   "metadata": {},
   "outputs": [],
   "source": [
    "sexo = {\n",
    "  0: 'Masculino',\n",
    "  1:'Femenino'\n",
    "}\n",
    "color = {\n",
    "  0: 'Indígena',\n",
    "  2: 'Blanco',\n",
    "  4: 'Negro',\n",
    "  6: 'Amarillo',\n",
    "  8: 'Pardo',\n",
    "  9: 'Sin declarar'\n",
    "}"
   ]
  },
  {
   "cell_type": "code",
   "execution_count": 84,
   "id": "18515d35",
   "metadata": {},
   "outputs": [],
   "source": [
    "frecuencia = pd.crosstab(datos.Sexo, datos.Color)"
   ]
  },
  {
   "cell_type": "code",
   "execution_count": 74,
   "id": "e2783f10",
   "metadata": {},
   "outputs": [
    {
     "data": {
      "text/html": [
       "<div>\n",
       "<style scoped>\n",
       "    .dataframe tbody tr th:only-of-type {\n",
       "        vertical-align: middle;\n",
       "    }\n",
       "\n",
       "    .dataframe tbody tr th {\n",
       "        vertical-align: top;\n",
       "    }\n",
       "\n",
       "    .dataframe thead th {\n",
       "        text-align: right;\n",
       "    }\n",
       "</style>\n",
       "<table border=\"1\" class=\"dataframe\">\n",
       "  <thead>\n",
       "    <tr style=\"text-align: right;\">\n",
       "      <th>Color</th>\n",
       "      <th>Indígena</th>\n",
       "      <th>Blanco</th>\n",
       "      <th>Negro</th>\n",
       "      <th>Amarillo</th>\n",
       "      <th>Pardo</th>\n",
       "    </tr>\n",
       "    <tr>\n",
       "      <th>Sexo</th>\n",
       "      <th></th>\n",
       "      <th></th>\n",
       "      <th></th>\n",
       "      <th></th>\n",
       "      <th></th>\n",
       "    </tr>\n",
       "  </thead>\n",
       "  <tbody>\n",
       "    <tr>\n",
       "      <th>Masculino</th>\n",
       "      <td>256</td>\n",
       "      <td>22194</td>\n",
       "      <td>5502</td>\n",
       "      <td>235</td>\n",
       "      <td>25063</td>\n",
       "    </tr>\n",
       "    <tr>\n",
       "      <th>Femenino</th>\n",
       "      <td>101</td>\n",
       "      <td>9621</td>\n",
       "      <td>2889</td>\n",
       "      <td>117</td>\n",
       "      <td>10862</td>\n",
       "    </tr>\n",
       "  </tbody>\n",
       "</table>\n",
       "</div>"
      ],
      "text/plain": [
       "Color      Indígena  Blanco  Negro  Amarillo  Pardo\n",
       "Sexo                                               \n",
       "Masculino       256   22194   5502       235  25063\n",
       "Femenino        101    9621   2889       117  10862"
      ]
     },
     "execution_count": 74,
     "metadata": {},
     "output_type": "execute_result"
    }
   ],
   "source": [
    "frecuencia.rename(index=sexo, columns=color, inplace=True)\n",
    "frecuencia"
   ]
  },
  {
   "cell_type": "markdown",
   "id": "c494af70",
   "metadata": {},
   "source": [
    "#### ¿Y el porcentaje?"
   ]
  },
  {
   "cell_type": "code",
   "execution_count": 80,
   "id": "8924d1a8",
   "metadata": {},
   "outputs": [
    {
     "data": {
      "text/html": [
       "<div>\n",
       "<style scoped>\n",
       "    .dataframe tbody tr th:only-of-type {\n",
       "        vertical-align: middle;\n",
       "    }\n",
       "\n",
       "    .dataframe tbody tr th {\n",
       "        vertical-align: top;\n",
       "    }\n",
       "\n",
       "    .dataframe thead th {\n",
       "        text-align: right;\n",
       "    }\n",
       "</style>\n",
       "<table border=\"1\" class=\"dataframe\">\n",
       "  <thead>\n",
       "    <tr style=\"text-align: right;\">\n",
       "      <th>Color</th>\n",
       "      <th>Indígena</th>\n",
       "      <th>Blanco</th>\n",
       "      <th>Negro</th>\n",
       "      <th>Amarillo</th>\n",
       "      <th>Pardo</th>\n",
       "    </tr>\n",
       "    <tr>\n",
       "      <th>Sexo</th>\n",
       "      <th></th>\n",
       "      <th></th>\n",
       "      <th></th>\n",
       "      <th></th>\n",
       "      <th></th>\n",
       "    </tr>\n",
       "  </thead>\n",
       "  <tbody>\n",
       "    <tr>\n",
       "      <th>Masculino</th>\n",
       "      <td>0.003332</td>\n",
       "      <td>0.288834</td>\n",
       "      <td>0.071603</td>\n",
       "      <td>0.003058</td>\n",
       "      <td>0.326171</td>\n",
       "    </tr>\n",
       "    <tr>\n",
       "      <th>Femenino</th>\n",
       "      <td>0.001314</td>\n",
       "      <td>0.125208</td>\n",
       "      <td>0.037598</td>\n",
       "      <td>0.001523</td>\n",
       "      <td>0.141359</td>\n",
       "    </tr>\n",
       "  </tbody>\n",
       "</table>\n",
       "</div>"
      ],
      "text/plain": [
       "Color      Indígena    Blanco     Negro  Amarillo     Pardo\n",
       "Sexo                                                       \n",
       "Masculino  0.003332  0.288834  0.071603  0.003058  0.326171\n",
       "Femenino   0.001314  0.125208  0.037598  0.001523  0.141359"
      ]
     },
     "execution_count": 80,
     "metadata": {},
     "output_type": "execute_result"
    }
   ],
   "source": [
    "porcentaje = pd.crosstab(datos.Sexo, datos.Color, normalize=True)\n",
    "porcentaje.rename(index=sexo, columns=color, inplace=True)\n",
    "porcentaje"
   ]
  },
  {
   "cell_type": "code",
   "execution_count": 83,
   "id": "a8f3b767",
   "metadata": {},
   "outputs": [
    {
     "data": {
      "text/html": [
       "<div>\n",
       "<style scoped>\n",
       "    .dataframe tbody tr th:only-of-type {\n",
       "        vertical-align: middle;\n",
       "    }\n",
       "\n",
       "    .dataframe tbody tr th {\n",
       "        vertical-align: top;\n",
       "    }\n",
       "\n",
       "    .dataframe thead th {\n",
       "        text-align: right;\n",
       "    }\n",
       "</style>\n",
       "<table border=\"1\" class=\"dataframe\">\n",
       "  <thead>\n",
       "    <tr style=\"text-align: right;\">\n",
       "      <th>Color</th>\n",
       "      <th>Indígena</th>\n",
       "      <th>Blanco</th>\n",
       "      <th>Negro</th>\n",
       "      <th>Amarillo</th>\n",
       "      <th>Pardo</th>\n",
       "    </tr>\n",
       "    <tr>\n",
       "      <th>Sexo</th>\n",
       "      <th></th>\n",
       "      <th></th>\n",
       "      <th></th>\n",
       "      <th></th>\n",
       "      <th></th>\n",
       "    </tr>\n",
       "  </thead>\n",
       "  <tbody>\n",
       "    <tr>\n",
       "      <th>Masculino</th>\n",
       "      <td>0.333160</td>\n",
       "      <td>28.883394</td>\n",
       "      <td>7.160333</td>\n",
       "      <td>0.305830</td>\n",
       "      <td>32.617126</td>\n",
       "    </tr>\n",
       "    <tr>\n",
       "      <th>Femenino</th>\n",
       "      <td>0.131442</td>\n",
       "      <td>12.520822</td>\n",
       "      <td>3.759761</td>\n",
       "      <td>0.152264</td>\n",
       "      <td>14.135867</td>\n",
       "    </tr>\n",
       "  </tbody>\n",
       "</table>\n",
       "</div>"
      ],
      "text/plain": [
       "Color      Indígena     Blanco     Negro  Amarillo      Pardo\n",
       "Sexo                                                         \n",
       "Masculino  0.333160  28.883394  7.160333  0.305830  32.617126\n",
       "Femenino   0.131442  12.520822  3.759761  0.152264  14.135867"
      ]
     },
     "execution_count": 83,
     "metadata": {},
     "output_type": "execute_result"
    }
   ],
   "source": [
    "porcentaje = porcentaje.map(lambda x: x * 100)\n",
    "porcentaje"
   ]
  },
  {
   "cell_type": "markdown",
   "id": "697889bc",
   "metadata": {},
   "source": [
    "### Distribución de ingreso en función de sexo y color"
   ]
  },
  {
   "cell_type": "markdown",
   "id": "d8573f21",
   "metadata": {},
   "source": [
    "`aggfunc='mean'` -> indica que se quiere calcular la media de datos. Ingreso para cada combinación de sexo y color. Existen otras funciones de agregación como sum, count, etc.\n",
    "\n",
    "`values=datos.Ingreso` -> especifica la variable numérica cuyos valores se agregarán en cada celda de la tabla"
   ]
  },
  {
   "cell_type": "code",
   "execution_count": 85,
   "id": "77e1588a",
   "metadata": {},
   "outputs": [
    {
     "data": {
      "text/html": [
       "<div>\n",
       "<style scoped>\n",
       "    .dataframe tbody tr th:only-of-type {\n",
       "        vertical-align: middle;\n",
       "    }\n",
       "\n",
       "    .dataframe tbody tr th {\n",
       "        vertical-align: top;\n",
       "    }\n",
       "\n",
       "    .dataframe thead th {\n",
       "        text-align: right;\n",
       "    }\n",
       "</style>\n",
       "<table border=\"1\" class=\"dataframe\">\n",
       "  <thead>\n",
       "    <tr style=\"text-align: right;\">\n",
       "      <th>Color</th>\n",
       "      <th>Indígena</th>\n",
       "      <th>Blanco</th>\n",
       "      <th>Negro</th>\n",
       "      <th>Amarillo</th>\n",
       "      <th>Pardo</th>\n",
       "    </tr>\n",
       "    <tr>\n",
       "      <th>Sexo</th>\n",
       "      <th></th>\n",
       "      <th></th>\n",
       "      <th></th>\n",
       "      <th></th>\n",
       "      <th></th>\n",
       "    </tr>\n",
       "  </thead>\n",
       "  <tbody>\n",
       "    <tr>\n",
       "      <th>Masculino</th>\n",
       "      <td>1081.710938</td>\n",
       "      <td>2925.744435</td>\n",
       "      <td>1603.861687</td>\n",
       "      <td>4758.251064</td>\n",
       "      <td>1659.577425</td>\n",
       "    </tr>\n",
       "    <tr>\n",
       "      <th>Femenino</th>\n",
       "      <td>2464.386139</td>\n",
       "      <td>2109.866750</td>\n",
       "      <td>1134.596400</td>\n",
       "      <td>3027.341880</td>\n",
       "      <td>1176.758516</td>\n",
       "    </tr>\n",
       "  </tbody>\n",
       "</table>\n",
       "</div>"
      ],
      "text/plain": [
       "Color         Indígena       Blanco        Negro     Amarillo        Pardo\n",
       "Sexo                                                                      \n",
       "Masculino  1081.710938  2925.744435  1603.861687  4758.251064  1659.577425\n",
       "Femenino   2464.386139  2109.866750  1134.596400  3027.341880  1176.758516"
      ]
     },
     "execution_count": 85,
     "metadata": {},
     "output_type": "execute_result"
    }
   ],
   "source": [
    "porcentaje = pd.crosstab(datos.Sexo,datos.Color, aggfunc='mean', values=datos.Ingreso)\n",
    "porcentaje.rename(index = sexo, columns=color, inplace=True)\n",
    "porcentaje"
   ]
  },
  {
   "cell_type": "markdown",
   "id": "f5b16ec9",
   "metadata": {},
   "source": [
    "La tabla mostrada entrega la media de infreso para cada combinación de Sexo y Color. Permite comparar, por ejemplo, si hay diferencias significativas en los ingresos promedio entre hombres y mujeres de diferentes etnias."
   ]
  }
 ],
 "metadata": {
  "kernelspec": {
   "display_name": "condaenv",
   "language": "python",
   "name": "python3"
  },
  "language_info": {
   "codemirror_mode": {
    "name": "ipython",
    "version": 3
   },
   "file_extension": ".py",
   "mimetype": "text/x-python",
   "name": "python",
   "nbconvert_exporter": "python",
   "pygments_lexer": "ipython3",
   "version": "3.13.2"
  }
 },
 "nbformat": 4,
 "nbformat_minor": 5
}
