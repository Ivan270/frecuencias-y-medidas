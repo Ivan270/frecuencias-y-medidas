{
 "cells": [
  {
   "cell_type": "markdown",
   "id": "51f141a7",
   "metadata": {},
   "source": [
    "# Datos anteriores"
   ]
  },
  {
   "cell_type": "code",
   "execution_count": 238,
   "id": "61d036da",
   "metadata": {},
   "outputs": [
    {
     "data": {
      "text/html": [
       "<div>\n",
       "<style scoped>\n",
       "    .dataframe tbody tr th:only-of-type {\n",
       "        vertical-align: middle;\n",
       "    }\n",
       "\n",
       "    .dataframe tbody tr th {\n",
       "        vertical-align: top;\n",
       "    }\n",
       "\n",
       "    .dataframe thead th {\n",
       "        text-align: right;\n",
       "    }\n",
       "</style>\n",
       "<table border=\"1\" class=\"dataframe\">\n",
       "  <thead>\n",
       "    <tr style=\"text-align: right;\">\n",
       "      <th></th>\n",
       "      <th>Ciudad</th>\n",
       "      <th>Sexo</th>\n",
       "      <th>Edad</th>\n",
       "      <th>Color</th>\n",
       "      <th>Años de Estudio</th>\n",
       "      <th>Ingreso</th>\n",
       "      <th>Altura</th>\n",
       "    </tr>\n",
       "  </thead>\n",
       "  <tbody>\n",
       "    <tr>\n",
       "      <th>49245</th>\n",
       "      <td>35</td>\n",
       "      <td>0</td>\n",
       "      <td>27</td>\n",
       "      <td>8</td>\n",
       "      <td>12</td>\n",
       "      <td>1030</td>\n",
       "      <td>1.760813</td>\n",
       "    </tr>\n",
       "    <tr>\n",
       "      <th>46305</th>\n",
       "      <td>33</td>\n",
       "      <td>0</td>\n",
       "      <td>37</td>\n",
       "      <td>4</td>\n",
       "      <td>1</td>\n",
       "      <td>788</td>\n",
       "      <td>1.633477</td>\n",
       "    </tr>\n",
       "    <tr>\n",
       "      <th>28038</th>\n",
       "      <td>29</td>\n",
       "      <td>0</td>\n",
       "      <td>45</td>\n",
       "      <td>2</td>\n",
       "      <td>12</td>\n",
       "      <td>1200</td>\n",
       "      <td>1.652486</td>\n",
       "    </tr>\n",
       "    <tr>\n",
       "      <th>65634</th>\n",
       "      <td>43</td>\n",
       "      <td>0</td>\n",
       "      <td>41</td>\n",
       "      <td>2</td>\n",
       "      <td>12</td>\n",
       "      <td>1100</td>\n",
       "      <td>1.653088</td>\n",
       "    </tr>\n",
       "    <tr>\n",
       "      <th>62592</th>\n",
       "      <td>43</td>\n",
       "      <td>0</td>\n",
       "      <td>36</td>\n",
       "      <td>2</td>\n",
       "      <td>12</td>\n",
       "      <td>1500</td>\n",
       "      <td>1.740550</td>\n",
       "    </tr>\n",
       "  </tbody>\n",
       "</table>\n",
       "</div>"
      ],
      "text/plain": [
       "       Ciudad  Sexo  Edad  Color  Años de Estudio  Ingreso    Altura\n",
       "49245      35     0    27      8               12     1030  1.760813\n",
       "46305      33     0    37      4                1      788  1.633477\n",
       "28038      29     0    45      2               12     1200  1.652486\n",
       "65634      43     0    41      2               12     1100  1.653088\n",
       "62592      43     0    36      2               12     1500  1.740550"
      ]
     },
     "execution_count": 238,
     "metadata": {},
     "output_type": "execute_result"
    }
   ],
   "source": [
    "import pandas as pd\n",
    "\n",
    "datos = pd.read_csv(\"data/datos.csv\")\n",
    "datos.sample(5)"
   ]
  },
  {
   "cell_type": "markdown",
   "id": "03eb271e",
   "metadata": {},
   "source": [
    "# Medidas de tendencia central"
   ]
  },
  {
   "cell_type": "markdown",
   "id": "63aa4e00",
   "metadata": {},
   "source": [
    "Son utilizadas para entender mejor donde las variables se concentran más.  \n",
    "Las mas conocidas son:\n",
    "- media ➡ promedio\n",
    "- mediana\n",
    "- moda"
   ]
  },
  {
   "cell_type": "markdown",
   "id": "124705e7",
   "metadata": {},
   "source": [
    "## DataFrame ejemplo"
   ]
  },
  {
   "cell_type": "code",
   "execution_count": 239,
   "id": "6c12c961",
   "metadata": {},
   "outputs": [
    {
     "data": {
      "text/html": [
       "<div>\n",
       "<style scoped>\n",
       "    .dataframe tbody tr th:only-of-type {\n",
       "        vertical-align: middle;\n",
       "    }\n",
       "\n",
       "    .dataframe tbody tr th {\n",
       "        vertical-align: top;\n",
       "    }\n",
       "\n",
       "    .dataframe thead th {\n",
       "        text-align: right;\n",
       "    }\n",
       "</style>\n",
       "<table border=\"1\" class=\"dataframe\">\n",
       "  <thead>\n",
       "    <tr style=\"text-align: right;\">\n",
       "      <th>Asignaturas</th>\n",
       "      <th>María</th>\n",
       "      <th>Pedro</th>\n",
       "      <th>Pablo</th>\n",
       "    </tr>\n",
       "  </thead>\n",
       "  <tbody>\n",
       "    <tr>\n",
       "      <th>Matemática</th>\n",
       "      <td>8</td>\n",
       "      <td>10.0</td>\n",
       "      <td>7.5</td>\n",
       "    </tr>\n",
       "    <tr>\n",
       "      <th>Portugués</th>\n",
       "      <td>10</td>\n",
       "      <td>2.0</td>\n",
       "      <td>8.0</td>\n",
       "    </tr>\n",
       "    <tr>\n",
       "      <th>Inglés</th>\n",
       "      <td>4</td>\n",
       "      <td>0.5</td>\n",
       "      <td>7.0</td>\n",
       "    </tr>\n",
       "    <tr>\n",
       "      <th>Geografía</th>\n",
       "      <td>8</td>\n",
       "      <td>1.0</td>\n",
       "      <td>8.0</td>\n",
       "    </tr>\n",
       "    <tr>\n",
       "      <th>Historia</th>\n",
       "      <td>6</td>\n",
       "      <td>3.0</td>\n",
       "      <td>8.0</td>\n",
       "    </tr>\n",
       "    <tr>\n",
       "      <th>Física</th>\n",
       "      <td>10</td>\n",
       "      <td>9.5</td>\n",
       "      <td>8.5</td>\n",
       "    </tr>\n",
       "    <tr>\n",
       "      <th>Química</th>\n",
       "      <td>8</td>\n",
       "      <td>10.0</td>\n",
       "      <td>7.0</td>\n",
       "    </tr>\n",
       "  </tbody>\n",
       "</table>\n",
       "</div>"
      ],
      "text/plain": [
       "Asignaturas  María  Pedro  Pablo\n",
       "Matemática       8   10.0    7.5\n",
       "Portugués       10    2.0    8.0\n",
       "Inglés           4    0.5    7.0\n",
       "Geografía        8    1.0    8.0\n",
       "Historia         6    3.0    8.0\n",
       "Física          10    9.5    8.5\n",
       "Química          8   10.0    7.0"
      ]
     },
     "execution_count": 239,
     "metadata": {},
     "output_type": "execute_result"
    }
   ],
   "source": [
    "df = pd.DataFrame(\n",
    "    data={\n",
    "        \"María\": [8, 10, 4, 8, 6, 10, 8],\n",
    "        \"Pedro\": [10, 2, 0.5, 1, 3, 9.5, 10],\n",
    "        \"Pablo\": [7.5, 8, 7, 8, 8, 8.5, 7],\n",
    "    },\n",
    "    index=[\n",
    "        \"Matemática\",\n",
    "        \"Portugués\",\n",
    "        \"Inglés\",\n",
    "        \"Geografía\",\n",
    "        \"Historia\",\n",
    "        \"Física\",\n",
    "        \"Química\",\n",
    "    ],\n",
    ")\n",
    "df.rename_axis(\"Asignaturas\", axis=\"columns\", inplace=True)\n",
    "df"
   ]
  },
  {
   "cell_type": "markdown",
   "id": "a09debb7",
   "metadata": {},
   "source": [
    "# Media aritmética"
   ]
  },
  {
   "cell_type": "markdown",
   "id": "72921e45",
   "metadata": {},
   "source": [
    "Es representada por $\\mu$ cuando se refiere a la población y por $\\bar{X}$ cuando se refiere a la muestra\n",
    "\n",
    "# $$\\mu = \\frac 1n\\sum_{i=1}^{n}X_i$$\n",
    "\n",
    "donde\n",
    "\n",
    "$n$ = número de observaciones (registros)\n",
    "\n",
    "$X_i$ = valor de la i-ésima observación (registro)\n",
    "\n",
    "\n",
    "> En resumen:\n",
    ">\n",
    "> La media aritmética es la suma de elementos dividido por la cantidad de elementos"
   ]
  },
  {
   "cell_type": "markdown",
   "id": "96033ec8",
   "metadata": {},
   "source": [
    "<blockquote>\n",
    "  <h3>🦉 En resumen:</h3>\n",
    "  <p>La media es la suma de todos los elementos dividida en la cantidad de elementos</p>\n",
    "</blockquote>"
   ]
  },
  {
   "cell_type": "markdown",
   "id": "a7c750c1",
   "metadata": {},
   "source": [
    "## Cálculo de media manual"
   ]
  },
  {
   "cell_type": "code",
   "execution_count": 240,
   "id": "56acc2f4",
   "metadata": {},
   "outputs": [
    {
     "data": {
      "text/plain": [
       "np.float64(7.71)"
      ]
     },
     "execution_count": 240,
     "metadata": {},
     "output_type": "execute_result"
    }
   ],
   "source": [
    "# Calculando media\n",
    "maria = df.María.values\n",
    "promedio = round(sum(maria)/len(maria),2)\n",
    "promedio"
   ]
  },
  {
   "cell_type": "markdown",
   "id": "ecb2c385",
   "metadata": {},
   "source": [
    "## Cálculo de media utilizando función `mean()`"
   ]
  },
  {
   "cell_type": "code",
   "execution_count": 241,
   "id": "d57fa284",
   "metadata": {},
   "outputs": [
    {
     "data": {
      "text/plain": [
       "np.float64(7.714285714285714)"
      ]
     },
     "execution_count": 241,
     "metadata": {},
     "output_type": "execute_result"
    }
   ],
   "source": [
    "# Función de python para calcular Media!\n",
    "maria = df.María\n",
    "maria.mean()"
   ]
  },
  {
   "cell_type": "code",
   "execution_count": 242,
   "id": "9a1375a3",
   "metadata": {},
   "outputs": [
    {
     "data": {
      "text/plain": [
       "Sexo\n",
       "0    2192.441596\n",
       "1    1566.847393\n",
       "Name: Ingreso, dtype: float64"
      ]
     },
     "execution_count": 242,
     "metadata": {},
     "output_type": "execute_result"
    }
   ],
   "source": [
    "# Calcular media de los ingresos por sexo\n",
    "datos.groupby([\"Sexo\"])[\"Ingreso\"].mean()"
   ]
  },
  {
   "cell_type": "markdown",
   "id": "f8e972a7",
   "metadata": {},
   "source": [
    "# Mediana"
   ]
  },
  {
   "cell_type": "markdown",
   "id": "825bb948",
   "metadata": {},
   "source": [
    "Para obtener la mediana de un conjunto de datos, se debe proceder así:\n",
    "1. Ordenar el conjunto de datos\n",
    "2. Identificar el número de observaciones (registros) del conjunto de datos ($n$)\n",
    "3. Identificar el elemento del medio:\n",
    "\n",
    "> Cuando $n$ sea impar, la posición del elemento del medio se obtendrá de la siguiente manera:\n",
    "> $$Elemento_{Md} = \\frac{n+1}{2}$$\n",
    ">\n",
    "> Cuando $n$ sea par, la posición del elemento mediano se obtendrá de la siguiente manera:\n",
    "> $$Elemento_{Md} = \\frac{n}2$$\n",
    "\n",
    "4. Obtener la mediana:\n",
    "\n",
    "> Cuando $n$ sea impar:\n",
    "> $$Md = X_{Elemento_{Md}}$$\n",
    "> Cuando $n$ sea par:\n",
    "> $$Md = \\frac{X_{Elemento_{Md}} + X_{Elemento_{Md}+1}}2$$"
   ]
  },
  {
   "cell_type": "markdown",
   "id": "ae1e5ba2",
   "metadata": {},
   "source": [
    "## Ejemplo 1 - n impar"
   ]
  },
  {
   "cell_type": "markdown",
   "id": "bf1e6414",
   "metadata": {},
   "source": [
    "<img src='https://caelum-online-public.s3.amazonaws.com/ESP-1752-estadistica-con-python-parte1/img002.png' width='40%' style=\"float:left\">"
   ]
  },
  {
   "cell_type": "code",
   "execution_count": 243,
   "id": "236a7441",
   "metadata": {},
   "outputs": [
    {
     "data": {
      "text/plain": [
       "7"
      ]
     },
     "execution_count": 243,
     "metadata": {},
     "output_type": "execute_result"
    }
   ],
   "source": [
    "maria = df.María\n",
    "maria.mean()\n",
    "maria = maria.sort_values()\n",
    "\n",
    "maria.shape\n",
    "n = maria.shape[0]\n",
    "n"
   ]
  },
  {
   "cell_type": "markdown",
   "id": "784eec99",
   "metadata": {},
   "source": [
    "## Obteniendo mediana de impares de forma manual"
   ]
  },
  {
   "cell_type": "code",
   "execution_count": 244,
   "id": "a43a41a3",
   "metadata": {},
   "outputs": [
    {
     "data": {
      "text/html": [
       "<div>\n",
       "<style scoped>\n",
       "    .dataframe tbody tr th:only-of-type {\n",
       "        vertical-align: middle;\n",
       "    }\n",
       "\n",
       "    .dataframe tbody tr th {\n",
       "        vertical-align: top;\n",
       "    }\n",
       "\n",
       "    .dataframe thead th {\n",
       "        text-align: right;\n",
       "    }\n",
       "</style>\n",
       "<table border=\"1\" class=\"dataframe\">\n",
       "  <thead>\n",
       "    <tr style=\"text-align: right;\">\n",
       "      <th></th>\n",
       "      <th>index</th>\n",
       "      <th>María</th>\n",
       "    </tr>\n",
       "  </thead>\n",
       "  <tbody>\n",
       "    <tr>\n",
       "      <th>0</th>\n",
       "      <td>Inglés</td>\n",
       "      <td>4</td>\n",
       "    </tr>\n",
       "    <tr>\n",
       "      <th>1</th>\n",
       "      <td>Historia</td>\n",
       "      <td>6</td>\n",
       "    </tr>\n",
       "    <tr>\n",
       "      <th>2</th>\n",
       "      <td>Matemática</td>\n",
       "      <td>8</td>\n",
       "    </tr>\n",
       "    <tr>\n",
       "      <th>3</th>\n",
       "      <td>Geografía</td>\n",
       "      <td>8</td>\n",
       "    </tr>\n",
       "    <tr>\n",
       "      <th>4</th>\n",
       "      <td>Química</td>\n",
       "      <td>8</td>\n",
       "    </tr>\n",
       "    <tr>\n",
       "      <th>5</th>\n",
       "      <td>Portugués</td>\n",
       "      <td>10</td>\n",
       "    </tr>\n",
       "    <tr>\n",
       "      <th>6</th>\n",
       "      <td>Física</td>\n",
       "      <td>10</td>\n",
       "    </tr>\n",
       "  </tbody>\n",
       "</table>\n",
       "</div>"
      ],
      "text/plain": [
       "        index  María\n",
       "0      Inglés      4\n",
       "1    Historia      6\n",
       "2  Matemática      8\n",
       "3   Geografía      8\n",
       "4     Química      8\n",
       "5   Portugués     10\n",
       "6      Física     10"
      ]
     },
     "execution_count": 244,
     "metadata": {},
     "output_type": "execute_result"
    }
   ],
   "source": [
    "# resetear index\n",
    "maria = maria.reset_index()\n",
    "maria"
   ]
  },
  {
   "cell_type": "code",
   "execution_count": 245,
   "id": "5f5ba20a",
   "metadata": {},
   "outputs": [
    {
     "data": {
      "text/plain": [
       "4.0"
      ]
     },
     "execution_count": 245,
     "metadata": {},
     "output_type": "execute_result"
    }
   ],
   "source": [
    "# encontrar elemento central\n",
    "elemento_md = (n+1)/2\n",
    "elemento_md"
   ]
  },
  {
   "cell_type": "code",
   "execution_count": 246,
   "id": "b01cbeaa",
   "metadata": {},
   "outputs": [
    {
     "data": {
      "text/plain": [
       "index    Geografía\n",
       "María            8\n",
       "Name: 3, dtype: object"
      ]
     },
     "execution_count": 246,
     "metadata": {},
     "output_type": "execute_result"
    }
   ],
   "source": [
    "maria.loc[elemento_md-1]"
   ]
  },
  {
   "cell_type": "markdown",
   "id": "1ecbba5a",
   "metadata": {},
   "source": [
    "## Obteniendo mediana de impares con función `median()` de python"
   ]
  },
  {
   "cell_type": "markdown",
   "id": "513303fe",
   "metadata": {},
   "source": [
    "Será necesario utilizar un DataFrame solo con una columna de números. En el caso del DF `maria`, habíamos transformado el index (de tipo texto con los nombres de las asignaturas) en columna."
   ]
  },
  {
   "cell_type": "code",
   "execution_count": 247,
   "id": "81b09ebd",
   "metadata": {},
   "outputs": [
    {
     "data": {
      "text/plain": [
       "8.0"
      ]
     },
     "execution_count": 247,
     "metadata": {},
     "output_type": "execute_result"
    }
   ],
   "source": [
    "maria['María'].median()"
   ]
  },
  {
   "cell_type": "markdown",
   "id": "b41c56fa",
   "metadata": {},
   "source": [
    "## Ejemplo 2 - n par"
   ]
  },
  {
   "cell_type": "markdown",
   "id": "53cf08ec",
   "metadata": {},
   "source": [
    "<img src='https://caelum-online-public.s3.amazonaws.com/ESP-1752-estadistica-con-python-parte1/img003.png' width='50%' style=\"float:left\">"
   ]
  },
  {
   "cell_type": "code",
   "execution_count": 248,
   "id": "98c18ed4",
   "metadata": {},
   "outputs": [
    {
     "data": {
      "text/plain": [
       "Geografía      1.0\n",
       "Física         9.5\n",
       "Química       10.0\n",
       "Historia       3.0\n",
       "Matemática    10.0\n",
       "Portugués      2.0\n",
       "Name: Pedro, dtype: float64"
      ]
     },
     "execution_count": 248,
     "metadata": {},
     "output_type": "execute_result"
    }
   ],
   "source": [
    "# random_state es necesario para que el ejemplo de las notas sea igual al de la profe\n",
    "pedro = df['Pedro'].sample(6, random_state=200)\n",
    "pedro"
   ]
  },
  {
   "cell_type": "code",
   "execution_count": 249,
   "id": "021fc592",
   "metadata": {},
   "outputs": [],
   "source": [
    "pedro = pedro.sort_values()"
   ]
  },
  {
   "cell_type": "code",
   "execution_count": 250,
   "id": "03d91d78",
   "metadata": {},
   "outputs": [
    {
     "data": {
      "text/plain": [
       "6"
      ]
     },
     "execution_count": 250,
     "metadata": {},
     "output_type": "execute_result"
    }
   ],
   "source": [
    "n = pedro.shape[0]\n",
    "n"
   ]
  },
  {
   "cell_type": "code",
   "execution_count": 251,
   "id": "d6e60e70",
   "metadata": {},
   "outputs": [],
   "source": [
    "pedro = pedro.reset_index()"
   ]
  },
  {
   "cell_type": "code",
   "execution_count": 252,
   "id": "b2cc2787",
   "metadata": {},
   "outputs": [
    {
     "data": {
      "text/html": [
       "<div>\n",
       "<style scoped>\n",
       "    .dataframe tbody tr th:only-of-type {\n",
       "        vertical-align: middle;\n",
       "    }\n",
       "\n",
       "    .dataframe tbody tr th {\n",
       "        vertical-align: top;\n",
       "    }\n",
       "\n",
       "    .dataframe thead th {\n",
       "        text-align: right;\n",
       "    }\n",
       "</style>\n",
       "<table border=\"1\" class=\"dataframe\">\n",
       "  <thead>\n",
       "    <tr style=\"text-align: right;\">\n",
       "      <th></th>\n",
       "      <th>index</th>\n",
       "      <th>Pedro</th>\n",
       "    </tr>\n",
       "  </thead>\n",
       "  <tbody>\n",
       "    <tr>\n",
       "      <th>0</th>\n",
       "      <td>Geografía</td>\n",
       "      <td>1.0</td>\n",
       "    </tr>\n",
       "    <tr>\n",
       "      <th>1</th>\n",
       "      <td>Portugués</td>\n",
       "      <td>2.0</td>\n",
       "    </tr>\n",
       "    <tr>\n",
       "      <th>2</th>\n",
       "      <td>Historia</td>\n",
       "      <td>3.0</td>\n",
       "    </tr>\n",
       "    <tr>\n",
       "      <th>3</th>\n",
       "      <td>Física</td>\n",
       "      <td>9.5</td>\n",
       "    </tr>\n",
       "    <tr>\n",
       "      <th>4</th>\n",
       "      <td>Química</td>\n",
       "      <td>10.0</td>\n",
       "    </tr>\n",
       "    <tr>\n",
       "      <th>5</th>\n",
       "      <td>Matemática</td>\n",
       "      <td>10.0</td>\n",
       "    </tr>\n",
       "  </tbody>\n",
       "</table>\n",
       "</div>"
      ],
      "text/plain": [
       "        index  Pedro\n",
       "0   Geografía    1.0\n",
       "1   Portugués    2.0\n",
       "2    Historia    3.0\n",
       "3      Física    9.5\n",
       "4     Química   10.0\n",
       "5  Matemática   10.0"
      ]
     },
     "execution_count": 252,
     "metadata": {},
     "output_type": "execute_result"
    }
   ],
   "source": [
    "pedro"
   ]
  },
  {
   "cell_type": "markdown",
   "id": "1087cc36",
   "metadata": {},
   "source": [
    "## Obtener mediana de pares manualmente"
   ]
  },
  {
   "cell_type": "code",
   "execution_count": 253,
   "id": "fd1509a0",
   "metadata": {},
   "outputs": [
    {
     "data": {
      "text/plain": [
       "3"
      ]
     },
     "execution_count": 253,
     "metadata": {},
     "output_type": "execute_result"
    }
   ],
   "source": [
    "elemento_md = n/2\n",
    "int(elemento_md)"
   ]
  },
  {
   "cell_type": "code",
   "execution_count": 254,
   "id": "dd66ead0",
   "metadata": {},
   "outputs": [
    {
     "name": "stderr",
     "output_type": "stream",
     "text": [
      "/var/folders/45/nnwdvrcs63j3c_75jxv__q_80000gn/T/ipykernel_37365/3508535258.py:1: FutureWarning: Series.__getitem__ treating keys as positions is deprecated. In a future version, integer keys will always be treated as labels (consistent with DataFrame behavior). To access a value by position, use `ser.iloc[pos]`\n",
      "  (pedro.loc[elemento_md - 1][1] + pedro.loc[elemento_md][1])/2\n"
     ]
    },
    {
     "data": {
      "text/plain": [
       "np.float64(6.25)"
      ]
     },
     "execution_count": 254,
     "metadata": {},
     "output_type": "execute_result"
    }
   ],
   "source": [
    "(pedro.loc[elemento_md - 1][1] + pedro.loc[elemento_md][1])/2"
   ]
  },
  {
   "cell_type": "code",
   "execution_count": 255,
   "id": "240bc55d",
   "metadata": {},
   "outputs": [
    {
     "data": {
      "text/plain": [
       "6.25"
      ]
     },
     "execution_count": 255,
     "metadata": {},
     "output_type": "execute_result"
    }
   ],
   "source": [
    "pedro['Pedro'].median()"
   ]
  },
  {
   "cell_type": "markdown",
   "id": "3730d021",
   "metadata": {},
   "source": [
    "## Obtener mediana de pares con `median()`"
   ]
  },
  {
   "cell_type": "code",
   "execution_count": 256,
   "id": "655db91d",
   "metadata": {},
   "outputs": [
    {
     "data": {
      "text/plain": [
       "1200.0"
      ]
     },
     "execution_count": 256,
     "metadata": {},
     "output_type": "execute_result"
    }
   ],
   "source": [
    "datos.Ingreso.median()"
   ]
  },
  {
   "cell_type": "markdown",
   "id": "6cfcd574",
   "metadata": {},
   "source": [
    "# Moda"
   ]
  },
  {
   "cell_type": "markdown",
   "id": "0a7d10f1",
   "metadata": {},
   "source": [
    "La moda se puede definir como el valor más frecuente de un conjunto de datos. La moda es ampliamente utilizada para datos cualitativos."
   ]
  },
  {
   "cell_type": "code",
   "execution_count": 257,
   "id": "e0a0cc6c",
   "metadata": {},
   "outputs": [
    {
     "data": {
      "text/html": [
       "<div>\n",
       "<style scoped>\n",
       "    .dataframe tbody tr th:only-of-type {\n",
       "        vertical-align: middle;\n",
       "    }\n",
       "\n",
       "    .dataframe tbody tr th {\n",
       "        vertical-align: top;\n",
       "    }\n",
       "\n",
       "    .dataframe thead th {\n",
       "        text-align: right;\n",
       "    }\n",
       "</style>\n",
       "<table border=\"1\" class=\"dataframe\">\n",
       "  <thead>\n",
       "    <tr style=\"text-align: right;\">\n",
       "      <th>Asignaturas</th>\n",
       "      <th>María</th>\n",
       "      <th>Pedro</th>\n",
       "      <th>Pablo</th>\n",
       "    </tr>\n",
       "  </thead>\n",
       "  <tbody>\n",
       "    <tr>\n",
       "      <th>0</th>\n",
       "      <td>8</td>\n",
       "      <td>10.0</td>\n",
       "      <td>8.0</td>\n",
       "    </tr>\n",
       "  </tbody>\n",
       "</table>\n",
       "</div>"
      ],
      "text/plain": [
       "Asignaturas  María  Pedro  Pablo\n",
       "0                8   10.0    8.0"
      ]
     },
     "execution_count": 257,
     "metadata": {},
     "output_type": "execute_result"
    }
   ],
   "source": [
    "# Obtener moda de DF ejemplo de notas\n",
    "df.mode()"
   ]
  },
  {
   "cell_type": "code",
   "execution_count": 258,
   "id": "c28bcfed",
   "metadata": {},
   "outputs": [
    {
     "data": {
      "text/plain": [
       "0    788\n",
       "Name: Ingreso, dtype: int64"
      ]
     },
     "execution_count": 258,
     "metadata": {},
     "output_type": "execute_result"
    }
   ],
   "source": [
    "# Ingreso más repetido de los entrevistados\n",
    "datos.Ingreso.mode()"
   ]
  },
  {
   "cell_type": "markdown",
   "id": "6826ca23",
   "metadata": {},
   "source": [
    "Ejemplo **multimodal**, no hay un valor único como moda:"
   ]
  },
  {
   "cell_type": "code",
   "execution_count": 259,
   "id": "9cdc5b9c",
   "metadata": {},
   "outputs": [
    {
     "data": {
      "text/plain": [
       "0    1.568128\n",
       "1    1.671225\n",
       "2    1.681659\n",
       "3    1.692977\n",
       "4    1.708163\n",
       "5    1.708370\n",
       "6    1.753842\n",
       "7    1.779073\n",
       "8    1.796462\n",
       "Name: Altura, dtype: float64"
      ]
     },
     "execution_count": 259,
     "metadata": {},
     "output_type": "execute_result"
    }
   ],
   "source": [
    "datos.Altura.mode()"
   ]
  },
  {
   "cell_type": "markdown",
   "id": "c96ac927",
   "metadata": {},
   "source": [
    "## Relación entre media, mediana y moda"
   ]
  },
  {
   "cell_type": "markdown",
   "id": "86dd233b",
   "metadata": {},
   "source": [
    "<img src='https://caelum-online-public.s3.amazonaws.com/ESP-1752-estadistica-con-python-parte1/img004.png' width='80%'>"
   ]
  },
  {
   "cell_type": "markdown",
   "id": "842b9a83",
   "metadata": {},
   "source": [
    "Importancia del histograma como opción para graficar representaciones de distribuciones de frecuencia."
   ]
  },
  {
   "cell_type": "markdown",
   "id": "2d742051",
   "metadata": {},
   "source": [
    "1. Para que la relación sea simétrica:\n",
    "    - media debe tener un valor muy cercano a la mediana y moda\n",
    "2. Asimétrica a la derecha:\n",
    "    - Moda es menor a la mediana\n",
    "    - mediana es menor que la media\n",
    "3. Asimétrica a la izquierda:\n",
    "    - Media es menor a la mediana\n",
    "    - Mediana es menor a la moda"
   ]
  },
  {
   "cell_type": "markdown",
   "id": "1b085b5b",
   "metadata": {},
   "source": [
    "### Verificando relación en Ingreso"
   ]
  },
  {
   "cell_type": "code",
   "execution_count": 260,
   "id": "b729b563",
   "metadata": {},
   "outputs": [
    {
     "name": "stderr",
     "output_type": "stream",
     "text": [
      "/var/folders/45/nnwdvrcs63j3c_75jxv__q_80000gn/T/ipykernel_37365/875959450.py:2: UserWarning: \n",
      "\n",
      "`distplot` is a deprecated function and will be removed in seaborn v0.14.0.\n",
      "\n",
      "Please adapt your code to use either `displot` (a figure-level function with\n",
      "similar flexibility) or `histplot` (an axes-level function for histograms).\n",
      "\n",
      "For a guide to updating your code to use the new functions, please see\n",
      "https://gist.github.com/mwaskom/de44147ed2974457ad6372750bbe5751\n",
      "\n",
      "  ax = sns.distplot(datos.query('Ingreso < 20000').Ingreso)\n"
     ]
    },
    {
     "data": {
      "text/plain": [
       "<Axes: xlabel='Ingreso', ylabel='Density'>"
      ]
     },
     "execution_count": 260,
     "metadata": {},
     "output_type": "execute_result"
    },
    {
     "data": {
      "image/png": "[encoded data removed]",
      "text/plain": [
       "<Figure size 1200x600 with 1 Axes>"
      ]
     },
     "metadata": {},
     "output_type": "display_data"
    }
   ],
   "source": [
    "import seaborn as sns\n",
    "ax = sns.distplot(datos.query('Ingreso < 20000').Ingreso)\n",
    "ax.figure.set_size_inches(12,6)\n",
    "ax"
   ]
  },
  {
   "cell_type": "markdown",
   "id": "ca0bced2",
   "metadata": {},
   "source": [
    "Solamente viendo el gráfico se puede apreciar que podría tener una relación asimétrica hacia la derecha. \n",
    "Pero se puede profundizar más:\n",
    "- descubrir si la moda es mucho menor que la media"
   ]
  },
  {
   "cell_type": "code",
   "execution_count": 261,
   "id": "9261f5bf",
   "metadata": {},
   "outputs": [
    {
     "data": {
      "text/plain": [
       "np.int64(788)"
      ]
     },
     "execution_count": 261,
     "metadata": {},
     "output_type": "execute_result"
    }
   ],
   "source": [
    "Moda = datos.Ingreso.mode()[0]\n",
    "Moda"
   ]
  },
  {
   "cell_type": "code",
   "execution_count": null,
   "id": "71aee2da",
   "metadata": {},
   "outputs": [
    {
     "data": {
      "text/plain": [
       "1200.0"
      ]
     },
     "execution_count": 262,
     "metadata": {},
     "output_type": "execute_result"
    }
   ],
   "source": [
    "Mediana = datos.Ingreso.median()\n",
    "Mediana"
   ]
  },
  {
   "cell_type": "code",
   "execution_count": 263,
   "id": "8a178793",
   "metadata": {},
   "outputs": [
    {
     "data": {
      "text/plain": [
       "np.float64(2000.3831988547631)"
      ]
     },
     "execution_count": 263,
     "metadata": {},
     "output_type": "execute_result"
    }
   ],
   "source": [
    "Media = datos.Ingreso.mean()\n",
    "Media"
   ]
  },
  {
   "cell_type": "code",
   "execution_count": 264,
   "id": "e3457e64",
   "metadata": {},
   "outputs": [
    {
     "data": {
      "text/plain": [
       "np.True_"
      ]
     },
     "execution_count": 264,
     "metadata": {},
     "output_type": "execute_result"
    }
   ],
   "source": [
    "Moda < Mediana < Media"
   ]
  },
  {
   "cell_type": "markdown",
   "id": "ffcdd3e5",
   "metadata": {},
   "source": [
    "### Verificando la relación en altura"
   ]
  },
  {
   "cell_type": "code",
   "execution_count": 265,
   "id": "218b19cf",
   "metadata": {},
   "outputs": [
    {
     "name": "stderr",
     "output_type": "stream",
     "text": [
      "/var/folders/45/nnwdvrcs63j3c_75jxv__q_80000gn/T/ipykernel_37365/2397976757.py:1: UserWarning: \n",
      "\n",
      "`distplot` is a deprecated function and will be removed in seaborn v0.14.0.\n",
      "\n",
      "Please adapt your code to use either `displot` (a figure-level function with\n",
      "similar flexibility) or `histplot` (an axes-level function for histograms).\n",
      "\n",
      "For a guide to updating your code to use the new functions, please see\n",
      "https://gist.github.com/mwaskom/de44147ed2974457ad6372750bbe5751\n",
      "\n",
      "  ax = sns.distplot(datos.Altura)\n"
     ]
    },
    {
     "data": {
      "text/plain": [
       "<Axes: xlabel='Altura', ylabel='Density'>"
      ]
     },
     "execution_count": 265,
     "metadata": {},
     "output_type": "execute_result"
    },
    {
     "data": {
      "image/png": "[encoded data removed]",
      "text/plain": [
       "<Figure size 1200x600 with 1 Axes>"
      ]
     },
     "metadata": {},
     "output_type": "display_data"
    }
   ],
   "source": [
    "ax = sns.distplot(datos.Altura)\n",
    "ax.figure.set_size_inches(12,6)\n",
    "ax"
   ]
  },
  {
   "cell_type": "code",
   "execution_count": 266,
   "id": "eb19be65",
   "metadata": {},
   "outputs": [
    {
     "data": {
      "text/plain": [
       "0    1.568128\n",
       "1    1.671225\n",
       "2    1.681659\n",
       "3    1.692977\n",
       "4    1.708163\n",
       "5    1.708370\n",
       "6    1.753842\n",
       "7    1.779073\n",
       "8    1.796462\n",
       "Name: Altura, dtype: float64"
      ]
     },
     "execution_count": 266,
     "metadata": {},
     "output_type": "execute_result"
    }
   ],
   "source": [
    "Moda = datos.Altura.mode()\n",
    "Moda"
   ]
  },
  {
   "cell_type": "code",
   "execution_count": 267,
   "id": "02993348",
   "metadata": {},
   "outputs": [
    {
     "data": {
      "text/plain": [
       "np.float64(1.6995124540575741)"
      ]
     },
     "execution_count": 267,
     "metadata": {},
     "output_type": "execute_result"
    }
   ],
   "source": [
    "Media = datos.Altura.mean()\n",
    "Media"
   ]
  },
  {
   "cell_type": "code",
   "execution_count": 268,
   "id": "6c846a3b",
   "metadata": {},
   "outputs": [
    {
     "data": {
      "text/plain": [
       "1.6993247325"
      ]
     },
     "execution_count": 268,
     "metadata": {},
     "output_type": "execute_result"
    }
   ],
   "source": [
    "Mediana = datos.Altura.median()\n",
    "Mediana"
   ]
  },
  {
   "cell_type": "markdown",
   "id": "0051285e",
   "metadata": {},
   "source": [
    "### Verificando variable Años de estudio"
   ]
  },
  {
   "cell_type": "code",
   "execution_count": 269,
   "id": "5c363581",
   "metadata": {},
   "outputs": [
    {
     "name": "stderr",
     "output_type": "stream",
     "text": [
      "/var/folders/45/nnwdvrcs63j3c_75jxv__q_80000gn/T/ipykernel_37365/2621572680.py:1: UserWarning: \n",
      "\n",
      "`distplot` is a deprecated function and will be removed in seaborn v0.14.0.\n",
      "\n",
      "Please adapt your code to use either `displot` (a figure-level function with\n",
      "similar flexibility) or `histplot` (an axes-level function for histograms).\n",
      "\n",
      "For a guide to updating your code to use the new functions, please see\n",
      "https://gist.github.com/mwaskom/de44147ed2974457ad6372750bbe5751\n",
      "\n",
      "  ax = sns.distplot(datos['Años de Estudio'], bins=17)\n"
     ]
    },
    {
     "data": {
      "text/plain": [
       "<Axes: xlabel='Años de Estudio', ylabel='Density'>"
      ]
     },
     "execution_count": 269,
     "metadata": {},
     "output_type": "execute_result"
    },
    {
     "data": {
      "image/png": "[encoded data removed]",
      "text/plain": [
       "<Figure size 1200x600 with 1 Axes>"
      ]
     },
     "metadata": {},
     "output_type": "display_data"
    }
   ],
   "source": [
    "ax = sns.distplot(datos['Años de Estudio'], bins=17)\n",
    "ax.figure.set_size_inches(12,6)\n",
    "ax"
   ]
  },
  {
   "cell_type": "code",
   "execution_count": 270,
   "id": "45a7f0fd",
   "metadata": {},
   "outputs": [
    {
     "data": {
      "text/plain": [
       "0    12\n",
       "Name: Años de Estudio, dtype: int64"
      ]
     },
     "execution_count": 270,
     "metadata": {},
     "output_type": "execute_result"
    }
   ],
   "source": [
    "Moda = datos['Años de Estudio'].mode()\n",
    "Moda"
   ]
  },
  {
   "cell_type": "code",
   "execution_count": 271,
   "id": "0c88eea8",
   "metadata": {},
   "outputs": [
    {
     "data": {
      "text/plain": [
       "11.0"
      ]
     },
     "execution_count": 271,
     "metadata": {},
     "output_type": "execute_result"
    }
   ],
   "source": [
    "Mediana = datos['Años de Estudio'].median()\n",
    "Mediana"
   ]
  },
  {
   "cell_type": "code",
   "execution_count": 272,
   "id": "28e21e40",
   "metadata": {},
   "outputs": [
    {
     "data": {
      "text/plain": [
       "np.float64(9.469664237376367)"
      ]
     },
     "execution_count": 272,
     "metadata": {},
     "output_type": "execute_result"
    }
   ],
   "source": [
    "Media = datos['Años de Estudio'].mean()\n",
    "Media"
   ]
  },
  {
   "cell_type": "code",
   "execution_count": null,
   "id": "058da5c6",
   "metadata": {},
   "outputs": [
    {
     "data": {
      "text/plain": [
       "0    True\n",
       "Name: Años de Estudio, dtype: bool"
      ]
     },
     "execution_count": 277,
     "metadata": {},
     "output_type": "execute_result"
    }
   ],
   "source": [
    "# Comprobar si es asimétrico a la izquierda\n",
    "Media < Mediana < Moda"
   ]
  }
 ],
 "metadata": {
  "kernelspec": {
   "display_name": "condaenv",
   "language": "python",
   "name": "python3"
  },
  "language_info": {
   "codemirror_mode": {
    "name": "ipython",
    "version": 3
   },
   "file_extension": ".py",
   "mimetype": "text/x-python",
   "name": "python",
   "nbconvert_exporter": "python",
   "pygments_lexer": "ipython3",
   "version": "3.13.2"
  }
 },
 "nbformat": 4,
 "nbformat_minor": 5
}
